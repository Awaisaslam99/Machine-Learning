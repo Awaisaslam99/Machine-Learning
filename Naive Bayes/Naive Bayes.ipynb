{
 "cells": [
  {
   "cell_type": "code",
   "execution_count": 2,
   "id": "056d8522-4d19-4440-a2f3-6828d9401230",
   "metadata": {},
   "outputs": [],
   "source": [
    "import numpy as np\n",
    "import pandas as pd"
   ]
  },
  {
   "cell_type": "code",
   "execution_count": 3,
   "id": "f9fb0f2e-5bf3-43d1-b574-610ae0c62282",
   "metadata": {},
   "outputs": [],
   "source": [
    "df= pd.read_csv('play_tennis.csv')\n",
    "df.drop(columns=['day'],inplace=True)"
   ]
  },
  {
   "cell_type": "code",
   "execution_count": 6,
   "id": "03fe625b-1da4-4c07-afe6-1aeb2d26bb75",
   "metadata": {},
   "outputs": [
    {
     "data": {
      "text/html": [
       "<div>\n",
       "<style scoped>\n",
       "    .dataframe tbody tr th:only-of-type {\n",
       "        vertical-align: middle;\n",
       "    }\n",
       "\n",
       "    .dataframe tbody tr th {\n",
       "        vertical-align: top;\n",
       "    }\n",
       "\n",
       "    .dataframe thead th {\n",
       "        text-align: right;\n",
       "    }\n",
       "</style>\n",
       "<table border=\"1\" class=\"dataframe\">\n",
       "  <thead>\n",
       "    <tr style=\"text-align: right;\">\n",
       "      <th></th>\n",
       "      <th>outlook</th>\n",
       "      <th>temp</th>\n",
       "      <th>humidity</th>\n",
       "      <th>wind</th>\n",
       "      <th>play</th>\n",
       "    </tr>\n",
       "  </thead>\n",
       "  <tbody>\n",
       "    <tr>\n",
       "      <th>9</th>\n",
       "      <td>Rain</td>\n",
       "      <td>Mild</td>\n",
       "      <td>Normal</td>\n",
       "      <td>Weak</td>\n",
       "      <td>Yes</td>\n",
       "    </tr>\n",
       "  </tbody>\n",
       "</table>\n",
       "</div>"
      ],
      "text/plain": [
       "  outlook  temp humidity  wind play\n",
       "9    Rain  Mild   Normal  Weak  Yes"
      ]
     },
     "execution_count": 6,
     "metadata": {},
     "output_type": "execute_result"
    }
   ],
   "source": [
    "df.sample()"
   ]
  },
  {
   "cell_type": "code",
   "execution_count": 7,
   "id": "395b79e0-5fc2-4280-9116-96a2af2eb395",
   "metadata": {},
   "outputs": [],
   "source": [
    "# problem-1:\n",
    "\n",
    "# outlook-Sunny, tem-hot,  humidity-High, wind-wead\n",
    "# play or No play ??"
   ]
  },
  {
   "cell_type": "code",
   "execution_count": 8,
   "id": "f180a116-8240-46c1-a722-0d0b08d971e2",
   "metadata": {},
   "outputs": [],
   "source": [
    "# Solution:\n",
    "\n",
    "# p(yes / Sunny, Hot, high, weak) - p(Sunny/ yes) * p(Hot/yes) * p(High/ yes) * p(Weak/ yes) * p(yes)\n",
    "# p(No / Sunny, Hot, high, weak) - p(Sunny/ No) * p(Hot/No) * p(High/ No) * p(Weak/ No) * p(No)\n",
    "# Compare and decide using the maximum a posteriori rule.."
   ]
  },
  {
   "cell_type": "code",
   "execution_count": 9,
   "id": "c68c775d-ac73-4639-91d6-85431b76bc97",
   "metadata": {},
   "outputs": [],
   "source": [
    "# Problem-2:\n",
    "\n",
    "# Outlook-Overcast, Temp-cold, Humidity-Low, wind-weak\n",
    "# play or No play ??"
   ]
  },
  {
   "cell_type": "code",
   "execution_count": 10,
   "id": "121d62b3-d443-49b0-ae43-5bbadb550620",
   "metadata": {},
   "outputs": [],
   "source": [
    "# Solution:\n",
    "\n",
    "# p(yes / Overcast, Cold, Low, weak) - p(Overcast/ yes) * p(Cold/yes) * p(Low/ yes) * p(Weak/ yes) * p(yes)\n",
    "# p(No / Overcast, Cold, Low, weak) - p(Overcast/ No) * p(Cold/No) * p(Low/ No) * p(Weak/ No) * p(No)"
   ]
  },
  {
   "cell_type": "code",
   "execution_count": 11,
   "id": "4b12230a-65a6-4186-8b7a-7964a39af278",
   "metadata": {},
   "outputs": [
    {
     "data": {
      "text/plain": [
       "play\n",
       "Yes    9\n",
       "No     5\n",
       "Name: count, dtype: int64"
      ]
     },
     "execution_count": 11,
     "metadata": {},
     "output_type": "execute_result"
    }
   ],
   "source": [
    "df['play'].value_counts()"
   ]
  },
  {
   "cell_type": "code",
   "execution_count": 12,
   "id": "a56bda3b-dcd2-461f-89ac-63fd098a4d98",
   "metadata": {},
   "outputs": [],
   "source": [
    "PY= 9/14\n",
    "PN= 5/14"
   ]
  },
  {
   "cell_type": "code",
   "execution_count": 13,
   "id": "550f961a-b235-431c-a056-a018485ef977",
   "metadata": {},
   "outputs": [
    {
     "name": "stdout",
     "output_type": "stream",
     "text": [
      "0.6428571428571429\n",
      "0.35714285714285715\n"
     ]
    }
   ],
   "source": [
    "print(9/14)\n",
    "print(5/14)"
   ]
  },
  {
   "cell_type": "code",
   "execution_count": 14,
   "id": "041d58df-7ac4-4c14-8935-790cf8a232b5",
   "metadata": {},
   "outputs": [
    {
     "data": {
      "text/html": [
       "<div>\n",
       "<style scoped>\n",
       "    .dataframe tbody tr th:only-of-type {\n",
       "        vertical-align: middle;\n",
       "    }\n",
       "\n",
       "    .dataframe tbody tr th {\n",
       "        vertical-align: top;\n",
       "    }\n",
       "\n",
       "    .dataframe thead th {\n",
       "        text-align: right;\n",
       "    }\n",
       "</style>\n",
       "<table border=\"1\" class=\"dataframe\">\n",
       "  <thead>\n",
       "    <tr style=\"text-align: right;\">\n",
       "      <th>play</th>\n",
       "      <th>No</th>\n",
       "      <th>Yes</th>\n",
       "    </tr>\n",
       "    <tr>\n",
       "      <th>outlook</th>\n",
       "      <th></th>\n",
       "      <th></th>\n",
       "    </tr>\n",
       "  </thead>\n",
       "  <tbody>\n",
       "    <tr>\n",
       "      <th>Overcast</th>\n",
       "      <td>0</td>\n",
       "      <td>4</td>\n",
       "    </tr>\n",
       "    <tr>\n",
       "      <th>Rain</th>\n",
       "      <td>2</td>\n",
       "      <td>3</td>\n",
       "    </tr>\n",
       "    <tr>\n",
       "      <th>Sunny</th>\n",
       "      <td>3</td>\n",
       "      <td>2</td>\n",
       "    </tr>\n",
       "  </tbody>\n",
       "</table>\n",
       "</div>"
      ],
      "text/plain": [
       "play      No  Yes\n",
       "outlook          \n",
       "Overcast   0    4\n",
       "Rain       2    3\n",
       "Sunny      3    2"
      ]
     },
     "execution_count": 14,
     "metadata": {},
     "output_type": "execute_result"
    }
   ],
   "source": [
    "# outlook:\n",
    "pd.crosstab(df['outlook'], df['play'])"
   ]
  },
  {
   "cell_type": "code",
   "execution_count": 15,
   "id": "9077d096-d81b-4393-9ce0-4f49a66b2e5a",
   "metadata": {},
   "outputs": [],
   "source": [
    "pon= 0\n",
    "prn= 2/5\n",
    "psn= 4/9\n",
    "\n",
    "poy= 4/9\n",
    "pry= 3/9\n",
    "psy= 2/9"
   ]
  },
  {
   "cell_type": "code",
   "execution_count": 16,
   "id": "590c4c80-498d-45e5-9e5e-b23ba41c22f9",
   "metadata": {},
   "outputs": [
    {
     "data": {
      "text/html": [
       "<div>\n",
       "<style scoped>\n",
       "    .dataframe tbody tr th:only-of-type {\n",
       "        vertical-align: middle;\n",
       "    }\n",
       "\n",
       "    .dataframe tbody tr th {\n",
       "        vertical-align: top;\n",
       "    }\n",
       "\n",
       "    .dataframe thead th {\n",
       "        text-align: right;\n",
       "    }\n",
       "</style>\n",
       "<table border=\"1\" class=\"dataframe\">\n",
       "  <thead>\n",
       "    <tr style=\"text-align: right;\">\n",
       "      <th>play</th>\n",
       "      <th>No</th>\n",
       "      <th>Yes</th>\n",
       "    </tr>\n",
       "    <tr>\n",
       "      <th>temp</th>\n",
       "      <th></th>\n",
       "      <th></th>\n",
       "    </tr>\n",
       "  </thead>\n",
       "  <tbody>\n",
       "    <tr>\n",
       "      <th>Cool</th>\n",
       "      <td>1</td>\n",
       "      <td>3</td>\n",
       "    </tr>\n",
       "    <tr>\n",
       "      <th>Hot</th>\n",
       "      <td>2</td>\n",
       "      <td>2</td>\n",
       "    </tr>\n",
       "    <tr>\n",
       "      <th>Mild</th>\n",
       "      <td>2</td>\n",
       "      <td>4</td>\n",
       "    </tr>\n",
       "  </tbody>\n",
       "</table>\n",
       "</div>"
      ],
      "text/plain": [
       "play  No  Yes\n",
       "temp         \n",
       "Cool   1    3\n",
       "Hot    2    2\n",
       "Mild   2    4"
      ]
     },
     "execution_count": 16,
     "metadata": {},
     "output_type": "execute_result"
    }
   ],
   "source": [
    "# temp:\n",
    "pd.crosstab(df['temp'], df['play'])"
   ]
  },
  {
   "cell_type": "code",
   "execution_count": 17,
   "id": "3b439110-6355-40e1-96c4-653bcc773c88",
   "metadata": {},
   "outputs": [],
   "source": [
    "PCoolNo= 1/5\n",
    "PHotNo= 2/5\n",
    "PMildNo= 2/5\n",
    "\n",
    "PCoolYes= 3/9\n",
    "PHotYes= 2/9\n",
    "PMildYes= 4/9"
   ]
  },
  {
   "cell_type": "code",
   "execution_count": 18,
   "id": "1757593a-0ee7-417f-9df8-64ae2579b2e2",
   "metadata": {},
   "outputs": [
    {
     "data": {
      "text/html": [
       "<div>\n",
       "<style scoped>\n",
       "    .dataframe tbody tr th:only-of-type {\n",
       "        vertical-align: middle;\n",
       "    }\n",
       "\n",
       "    .dataframe tbody tr th {\n",
       "        vertical-align: top;\n",
       "    }\n",
       "\n",
       "    .dataframe thead th {\n",
       "        text-align: right;\n",
       "    }\n",
       "</style>\n",
       "<table border=\"1\" class=\"dataframe\">\n",
       "  <thead>\n",
       "    <tr style=\"text-align: right;\">\n",
       "      <th>play</th>\n",
       "      <th>No</th>\n",
       "      <th>Yes</th>\n",
       "    </tr>\n",
       "    <tr>\n",
       "      <th>humidity</th>\n",
       "      <th></th>\n",
       "      <th></th>\n",
       "    </tr>\n",
       "  </thead>\n",
       "  <tbody>\n",
       "    <tr>\n",
       "      <th>High</th>\n",
       "      <td>4</td>\n",
       "      <td>3</td>\n",
       "    </tr>\n",
       "    <tr>\n",
       "      <th>Normal</th>\n",
       "      <td>1</td>\n",
       "      <td>6</td>\n",
       "    </tr>\n",
       "  </tbody>\n",
       "</table>\n",
       "</div>"
      ],
      "text/plain": [
       "play      No  Yes\n",
       "humidity         \n",
       "High       4    3\n",
       "Normal     1    6"
      ]
     },
     "execution_count": 18,
     "metadata": {},
     "output_type": "execute_result"
    }
   ],
   "source": [
    "# Humidity:\n",
    "pd.crosstab(df['humidity'], df['play'])"
   ]
  },
  {
   "cell_type": "code",
   "execution_count": 19,
   "id": "85bb7b0d-8792-40fa-a1b0-20766d3e6944",
   "metadata": {},
   "outputs": [],
   "source": [
    "PHighNo= 4/5\n",
    "PNormalNo= 1/5\n",
    "\n",
    "PHighYes= 3/9\n",
    "PNormalYes= 6/9"
   ]
  },
  {
   "cell_type": "code",
   "execution_count": 20,
   "id": "e8cdfb75-bf9b-4349-8f72-dd9e175fcb57",
   "metadata": {},
   "outputs": [
    {
     "data": {
      "text/html": [
       "<div>\n",
       "<style scoped>\n",
       "    .dataframe tbody tr th:only-of-type {\n",
       "        vertical-align: middle;\n",
       "    }\n",
       "\n",
       "    .dataframe tbody tr th {\n",
       "        vertical-align: top;\n",
       "    }\n",
       "\n",
       "    .dataframe thead th {\n",
       "        text-align: right;\n",
       "    }\n",
       "</style>\n",
       "<table border=\"1\" class=\"dataframe\">\n",
       "  <thead>\n",
       "    <tr style=\"text-align: right;\">\n",
       "      <th>play</th>\n",
       "      <th>No</th>\n",
       "      <th>Yes</th>\n",
       "    </tr>\n",
       "    <tr>\n",
       "      <th>wind</th>\n",
       "      <th></th>\n",
       "      <th></th>\n",
       "    </tr>\n",
       "  </thead>\n",
       "  <tbody>\n",
       "    <tr>\n",
       "      <th>Strong</th>\n",
       "      <td>3</td>\n",
       "      <td>3</td>\n",
       "    </tr>\n",
       "    <tr>\n",
       "      <th>Weak</th>\n",
       "      <td>2</td>\n",
       "      <td>6</td>\n",
       "    </tr>\n",
       "  </tbody>\n",
       "</table>\n",
       "</div>"
      ],
      "text/plain": [
       "play    No  Yes\n",
       "wind           \n",
       "Strong   3    3\n",
       "Weak     2    6"
      ]
     },
     "execution_count": 20,
     "metadata": {},
     "output_type": "execute_result"
    }
   ],
   "source": [
    "# wind:\n",
    "pd.crosstab(df['wind'], df['play'])"
   ]
  },
  {
   "cell_type": "code",
   "execution_count": 21,
   "id": "8c7211c2-d9e0-4905-ab22-599794e5e2ae",
   "metadata": {},
   "outputs": [],
   "source": [
    "PStrongNo= 3/5\n",
    "PWeakNo= 2/5\n",
    "\n",
    "PStrongYes= 3/9\n",
    "PWeakYes= 6/9"
   ]
  },
  {
   "cell_type": "code",
   "execution_count": 26,
   "id": "91d673da-d675-4f9b-bdc3-f342394c623e",
   "metadata": {},
   "outputs": [
    {
     "name": "stdout",
     "output_type": "stream",
     "text": [
      "0.007054673721340388\n"
     ]
    }
   ],
   "source": [
    "# outlook-Sunny, tem-hot,  humidity-High, wind-wead\n",
    "\n",
    "pyes= PY*psy*PHotYes*PHighYes*PWeakYes\n",
    "print(pyes)"
   ]
  },
  {
   "cell_type": "code",
   "execution_count": 31,
   "id": "711c3f0c-1f70-4d5a-a2ec-ac28384bff57",
   "metadata": {},
   "outputs": [
    {
     "name": "stdout",
     "output_type": "stream",
     "text": [
      "0.020317460317460317\n"
     ]
    }
   ],
   "source": [
    "pno= PN*psn*PHotNo*PHighNo*PWeakNo\n",
    "print(pno)"
   ]
  },
  {
   "cell_type": "code",
   "execution_count": null,
   "id": "d3bb54ed-30a7-4299-b863-e56bfcd3a7bf",
   "metadata": {},
   "outputs": [],
   "source": [
    "# No play.."
   ]
  }
 ],
 "metadata": {
  "kernelspec": {
   "display_name": "Python 3 (ipykernel)",
   "language": "python",
   "name": "python3"
  },
  "language_info": {
   "codemirror_mode": {
    "name": "ipython",
    "version": 3
   },
   "file_extension": ".py",
   "mimetype": "text/x-python",
   "name": "python",
   "nbconvert_exporter": "python",
   "pygments_lexer": "ipython3",
   "version": "3.11.5"
  }
 },
 "nbformat": 4,
 "nbformat_minor": 5
}
