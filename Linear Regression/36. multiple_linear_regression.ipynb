{
 "cells": [
  {
   "cell_type": "code",
   "execution_count": 13,
   "metadata": {
    "id": "dd82LHwLmpkF"
   },
   "outputs": [],
   "source": [
    "from sklearn.datasets import make_regression\n",
    "import pandas as pd\n",
    "import numpy as np\n",
    "\n",
    "import plotly.express as px\n",
    "import plotly.graph_objects as go\n",
    "\n",
    "from sklearn.metrics import mean_absolute_error,mean_squared_error,r2_score"
   ]
  },
  {
   "cell_type": "code",
   "execution_count": 14,
   "metadata": {
    "id": "o-kkwl10m9Ef"
   },
   "outputs": [],
   "source": [
    "X,y = make_regression(n_samples=100, n_features=2, n_informative=2, n_targets=1, noise=50)\n",
    "    # use to make dataset,, 100 rows, 2 input cols,                  1 output col\n"
   ]
  },
  {
   "cell_type": "code",
   "execution_count": 15,
   "metadata": {
    "id": "hf4eEtH5nNZC"
   },
   "outputs": [],
   "source": [
    "df = pd.DataFrame({'feature1':X[:,0],'feature2':X[:,1],'target':y})"
   ]
  },
  {
   "cell_type": "code",
   "execution_count": 16,
   "metadata": {
    "colab": {
     "base_uri": "https://localhost:8080/"
    },
    "id": "hfz-7c5pmmOw",
    "outputId": "9646626b-f408-4a07-9226-2b2732ee146d"
   },
   "outputs": [
    {
     "data": {
      "text/plain": [
       "(100, 3)"
      ]
     },
     "execution_count": 16,
     "metadata": {},
     "output_type": "execute_result"
    }
   ],
   "source": [
    "df.shape"
   ]
  },
  {
   "cell_type": "code",
   "execution_count": 17,
   "metadata": {
    "colab": {
     "base_uri": "https://localhost:8080/",
     "height": 198
    },
    "id": "01dAHVqsAuDp",
    "outputId": "25391891-4520-4c67-bead-4a0fa44c9784"
   },
   "outputs": [
    {
     "data": {
      "text/html": [
       "<div>\n",
       "<style scoped>\n",
       "    .dataframe tbody tr th:only-of-type {\n",
       "        vertical-align: middle;\n",
       "    }\n",
       "\n",
       "    .dataframe tbody tr th {\n",
       "        vertical-align: top;\n",
       "    }\n",
       "\n",
       "    .dataframe thead th {\n",
       "        text-align: right;\n",
       "    }\n",
       "</style>\n",
       "<table border=\"1\" class=\"dataframe\">\n",
       "  <thead>\n",
       "    <tr style=\"text-align: right;\">\n",
       "      <th></th>\n",
       "      <th>feature1</th>\n",
       "      <th>feature2</th>\n",
       "      <th>target</th>\n",
       "    </tr>\n",
       "  </thead>\n",
       "  <tbody>\n",
       "    <tr>\n",
       "      <th>0</th>\n",
       "      <td>0.225556</td>\n",
       "      <td>-0.083883</td>\n",
       "      <td>8.988024</td>\n",
       "    </tr>\n",
       "    <tr>\n",
       "      <th>1</th>\n",
       "      <td>1.706777</td>\n",
       "      <td>0.586433</td>\n",
       "      <td>196.437878</td>\n",
       "    </tr>\n",
       "    <tr>\n",
       "      <th>2</th>\n",
       "      <td>0.995939</td>\n",
       "      <td>1.053551</td>\n",
       "      <td>138.490813</td>\n",
       "    </tr>\n",
       "    <tr>\n",
       "      <th>3</th>\n",
       "      <td>-0.788007</td>\n",
       "      <td>0.211718</td>\n",
       "      <td>19.440548</td>\n",
       "    </tr>\n",
       "    <tr>\n",
       "      <th>4</th>\n",
       "      <td>-0.328364</td>\n",
       "      <td>0.395764</td>\n",
       "      <td>42.766536</td>\n",
       "    </tr>\n",
       "  </tbody>\n",
       "</table>\n",
       "</div>"
      ],
      "text/plain": [
       "   feature1  feature2      target\n",
       "0  0.225556 -0.083883    8.988024\n",
       "1  1.706777  0.586433  196.437878\n",
       "2  0.995939  1.053551  138.490813\n",
       "3 -0.788007  0.211718   19.440548\n",
       "4 -0.328364  0.395764   42.766536"
      ]
     },
     "execution_count": 17,
     "metadata": {},
     "output_type": "execute_result"
    }
   ],
   "source": [
    "df.head()"
   ]
  },
  {
   "cell_type": "code",
   "execution_count": 18,
   "metadata": {
    "colab": {
     "base_uri": "https://localhost:8080/",
     "height": 542
    },
    "id": "kvlFl8W1Bn5p",
    "outputId": "648a7b07-560f-4e7f-821c-607d8ff6a0dc",
    "scrolled": true
   },
   "outputs": [
    {
     "data": {
      "application/vnd.plotly.v1+json": {
       "config": {
        "plotlyServerURL": "https://plot.ly"
       },
       "data": [
        {
         "hovertemplate": "feature1=%{x}<br>feature2=%{y}<br>target=%{z}<extra></extra>",
         "legendgroup": "",
         "marker": {
          "color": "#636efa",
          "symbol": "circle"
         },
         "mode": "markers",
         "name": "",
         "scene": "scene",
         "showlegend": false,
         "type": "scatter3d",
         "x": [
          0.2255560906588911,
          1.706776662648001,
          0.9959386919573585,
          -0.7880074136711541,
          -0.3283638316138342,
          1.0875944011865015,
          -0.22356471041929263,
          -0.8976941380889519,
          -0.538745333020917,
          1.8503291827558563,
          0.018367191891088954,
          0.591326595348238,
          -2.032131700089671,
          2.03764556684387,
          -1.636121935978785,
          -0.6871613427363649,
          -0.4811607436396592,
          -0.1034070955322806,
          1.6603857469450884,
          -1.9507081305266647,
          -1.6451345361087732,
          0.8083223429093401,
          1.3687789368555139,
          0.8727910309905321,
          0.14796451309781988,
          -0.33257221566651574,
          -0.10426395775730457,
          1.0888683051139056,
          0.5412682849074628,
          0.4859827939877661,
          -0.16879295098514793,
          0.23719780516068112,
          -1.143026011931037,
          0.8335800588167008,
          1.1508058818012807,
          0.4787352530274615,
          0.8409220483540537,
          0.2549499316709183,
          0.8517226465547335,
          1.070182226144127,
          1.6828033919936993,
          0.23619085706297643,
          0.06104078172957768,
          1.638505061309836,
          -1.1190286906695646,
          0.6984807570916777,
          0.30552026105892094,
          1.6715758357919295,
          -1.5088249489236216,
          -0.06820740166991825,
          1.6921410787091804,
          -0.8683222841380805,
          -0.5094609283019899,
          -0.668121951721492,
          -0.011992396387235912,
          -0.06434252789958668,
          2.0460366715696625,
          -0.8996798726918661,
          -0.5413395918539258,
          0.16375346662387463,
          0.38689861749050786,
          0.6174569057694034,
          -0.015329227124468598,
          -0.16824432290117144,
          -0.38299287096359713,
          -0.7285139564320728,
          -0.855141064836746,
          0.6334461892076559,
          -1.5060102420803338,
          0.9764094613389526,
          -1.4897332081405177,
          0.743256753366924,
          -1.2669602948344563,
          1.3594289783686786,
          1.3714940625791063,
          1.978437044028631,
          -1.039617513939303,
          0.034085313256356324,
          -0.5309560051252871,
          -0.2322612675884804,
          -1.9325640400146034,
          -1.6775052560118313,
          0.24927122503192006,
          -0.35748160484894625,
          0.19491924627641344,
          0.4186795042068399,
          1.43425315720215,
          -0.8630527895784144,
          -0.024145754570192142,
          0.04959650620182112,
          0.8488814351888287,
          -0.9537668608900949,
          -0.15149034262104358,
          1.2874972424257694,
          -0.5705985146913682,
          0.7155063828273325,
          0.5762374923727714,
          0.6269671000969604,
          -0.0649168601606317,
          -0.04192882852824145
         ],
         "y": [
          -0.0838829663421895,
          0.5864329282123466,
          1.0535506239157608,
          0.21171823029467163,
          0.3957636758698903,
          1.1952678979709566,
          -0.616480385965011,
          -0.9705929381530103,
          -0.37761585042159074,
          -0.20795212543784689,
          0.546984153850316,
          -1.34873257853654,
          -0.2027093082352961,
          -1.8867703162723575,
          0.1796284589768894,
          0.5308514018804218,
          0.13305146261743928,
          0.19957214996872158,
          -0.027441776223489808,
          0.5354730322069432,
          0.06571414392989924,
          -1.41777779406754,
          -0.8695221287597362,
          -0.291341327231362,
          1.4191359043100384,
          -0.4386289225970281,
          -1.6862230692165756,
          -0.5631455642354982,
          0.038304045197569594,
          0.23666011988344457,
          0.06817810908131147,
          -0.3520895697161724,
          -0.7897885945026379,
          0.32665246219781346,
          1.4079963931363348,
          -1.2578966081126568,
          0.05380180892757645,
          1.436282358201436,
          -0.6966605002728125,
          -0.9710369953952851,
          -0.5391622618653585,
          -0.6894710855257224,
          0.778536340064148,
          -0.7645438866951728,
          1.2674671233419472,
          -1.9482960537076297,
          1.3427356861096131,
          1.0607759974821376,
          0.9348188690856547,
          0.4865794053618265,
          -0.26077169326777,
          0.9325253196334066,
          -2.3882902740130407,
          1.729818344681823,
          0.2824612833397911,
          0.32917919566927,
          -0.016437092296794128,
          1.296649831872148,
          0.259990511393751,
          2.41085258812096,
          0.5253636843571667,
          -0.6158321658104197,
          -0.2249911804786802,
          -0.83728081650146,
          0.22838455582558048,
          -0.46509911385883956,
          -0.26087414854208524,
          0.3076641094332312,
          -1.4711159653612091,
          -0.9728830590190167,
          -1.3900518276136204,
          -1.902622160606081,
          0.14524893971647443,
          -0.7485817139900628,
          -2.0993589559813097,
          -1.2146573014152822,
          0.7545562354112484,
          0.1261079078950381,
          0.4500603327603142,
          -0.510002372072189,
          -1.2231146203542111,
          1.2656613300856425,
          2.500546604820429,
          -0.9821702649018884,
          -0.4615205235385818,
          0.40115606896546707,
          -0.8031665677056273,
          0.7047507161306088,
          1.0297507827799808,
          2.2324460935340458,
          0.4704976645802117,
          0.3889195353269632,
          -0.7106753266293001,
          0.9406777151906689,
          -0.22316935867701515,
          -0.8996845625835992,
          -0.17349416220685862,
          1.0816313037282441,
          -1.339072671773539,
          -0.14461066660697727
         ],
         "z": [
          8.988024301570828,
          196.43787840800672,
          138.49081299838733,
          19.440548419228634,
          42.76653559320479,
          81.3544902158282,
          -19.074648296058022,
          -49.79538788296409,
          26.48781928302715,
          69.63749056442728,
          27.20973845191625,
          39.70776121750494,
          -216.1672175292881,
          92.3084431580353,
          -129.11166892940798,
          18.644616972548896,
          -35.25538276857331,
          9.945998007818533,
          113.07860847537962,
          -99.03222973121241,
          -110.55122520183355,
          -36.07607036668944,
          75.31885838955964,
          42.29443283264897,
          153.52752017918652,
          -63.72724035480543,
          -168.47309839618094,
          18.740212065065624,
          -0.43499550010412236,
          30.605591821887216,
          70.96848342811849,
          -71.10824571435417,
          -105.80137296806674,
          2.6291249698226054,
          49.43526108056865,
          -71.94373281631283,
          82.24888291343431,
          145.44363206557944,
          -64.97044077883257,
          -44.133579735502714,
          77.58433624836736,
          -67.55410417305964,
          -61.9316681946061,
          136.2442520024722,
          53.0621323035702,
          -9.053649539323189,
          182.4369852617276,
          150.667092949977,
          16.543187448462866,
          1.9699144358895104,
          97.84658624053901,
          34.019654599981045,
          -109.69928634829711,
          98.47564748664317,
          -14.823059882784408,
          20.98759355335241,
          166.15415652629127,
          17.27656498670012,
          -85.06935042936176,
          107.67794474927838,
          148.76997253202927,
          -16.596493897896323,
          -14.975515482019905,
          -19.473015596112816,
          0.038262364610652355,
          -73.20228849477633,
          -45.416855322294126,
          19.69754625729228,
          -232.0955471666054,
          32.34499382189562,
          -151.54329499329356,
          -98.12201977261307,
          -93.93522158366221,
          66.1520207354545,
          -24.163918381148093,
          42.80419946736221,
          -100.84053203998762,
          38.556206516771724,
          32.764454933361144,
          -12.176059203974845,
          -182.9652510689629,
          -74.82219905654038,
          82.29952016124679,
          -58.66228750266621,
          19.641853528614725,
          142.20084204863605,
          113.6022689932053,
          -100.52744776077112,
          124.7153772809013,
          121.70684195856305,
          59.56540925339311,
          4.380588126470215,
          -53.5513478610971,
          155.62722799405464,
          8.158153914363922,
          24.440211840606743,
          31.632306793416095,
          52.29256112733401,
          -128.03360921798682,
          9.212387699404871
         ]
        }
       ],
       "layout": {
        "autosize": true,
        "legend": {
         "tracegroupgap": 0
        },
        "margin": {
         "t": 60
        },
        "scene": {
         "aspectmode": "auto",
         "aspectratio": {
          "x": 1,
          "y": 1,
          "z": 1
         },
         "domain": {
          "x": [
           0,
           1
          ],
          "y": [
           0,
           1
          ]
         },
         "xaxis": {
          "title": {
           "text": "feature1"
          },
          "type": "linear"
         },
         "yaxis": {
          "title": {
           "text": "feature2"
          },
          "type": "linear"
         },
         "zaxis": {
          "title": {
           "text": "target"
          },
          "type": "linear"
         }
        },
        "template": {
         "data": {
          "bar": [
           {
            "error_x": {
             "color": "#2a3f5f"
            },
            "error_y": {
             "color": "#2a3f5f"
            },
            "marker": {
             "line": {
              "color": "#E5ECF6",
              "width": 0.5
             },
             "pattern": {
              "fillmode": "overlay",
              "size": 10,
              "solidity": 0.2
             }
            },
            "type": "bar"
           }
          ],
          "barpolar": [
           {
            "marker": {
             "line": {
              "color": "#E5ECF6",
              "width": 0.5
             },
             "pattern": {
              "fillmode": "overlay",
              "size": 10,
              "solidity": 0.2
             }
            },
            "type": "barpolar"
           }
          ],
          "carpet": [
           {
            "aaxis": {
             "endlinecolor": "#2a3f5f",
             "gridcolor": "white",
             "linecolor": "white",
             "minorgridcolor": "white",
             "startlinecolor": "#2a3f5f"
            },
            "baxis": {
             "endlinecolor": "#2a3f5f",
             "gridcolor": "white",
             "linecolor": "white",
             "minorgridcolor": "white",
             "startlinecolor": "#2a3f5f"
            },
            "type": "carpet"
           }
          ],
          "choropleth": [
           {
            "colorbar": {
             "outlinewidth": 0,
             "ticks": ""
            },
            "type": "choropleth"
           }
          ],
          "contour": [
           {
            "colorbar": {
             "outlinewidth": 0,
             "ticks": ""
            },
            "colorscale": [
             [
              0,
              "#0d0887"
             ],
             [
              0.1111111111111111,
              "#46039f"
             ],
             [
              0.2222222222222222,
              "#7201a8"
             ],
             [
              0.3333333333333333,
              "#9c179e"
             ],
             [
              0.4444444444444444,
              "#bd3786"
             ],
             [
              0.5555555555555556,
              "#d8576b"
             ],
             [
              0.6666666666666666,
              "#ed7953"
             ],
             [
              0.7777777777777778,
              "#fb9f3a"
             ],
             [
              0.8888888888888888,
              "#fdca26"
             ],
             [
              1,
              "#f0f921"
             ]
            ],
            "type": "contour"
           }
          ],
          "contourcarpet": [
           {
            "colorbar": {
             "outlinewidth": 0,
             "ticks": ""
            },
            "type": "contourcarpet"
           }
          ],
          "heatmap": [
           {
            "colorbar": {
             "outlinewidth": 0,
             "ticks": ""
            },
            "colorscale": [
             [
              0,
              "#0d0887"
             ],
             [
              0.1111111111111111,
              "#46039f"
             ],
             [
              0.2222222222222222,
              "#7201a8"
             ],
             [
              0.3333333333333333,
              "#9c179e"
             ],
             [
              0.4444444444444444,
              "#bd3786"
             ],
             [
              0.5555555555555556,
              "#d8576b"
             ],
             [
              0.6666666666666666,
              "#ed7953"
             ],
             [
              0.7777777777777778,
              "#fb9f3a"
             ],
             [
              0.8888888888888888,
              "#fdca26"
             ],
             [
              1,
              "#f0f921"
             ]
            ],
            "type": "heatmap"
           }
          ],
          "heatmapgl": [
           {
            "colorbar": {
             "outlinewidth": 0,
             "ticks": ""
            },
            "colorscale": [
             [
              0,
              "#0d0887"
             ],
             [
              0.1111111111111111,
              "#46039f"
             ],
             [
              0.2222222222222222,
              "#7201a8"
             ],
             [
              0.3333333333333333,
              "#9c179e"
             ],
             [
              0.4444444444444444,
              "#bd3786"
             ],
             [
              0.5555555555555556,
              "#d8576b"
             ],
             [
              0.6666666666666666,
              "#ed7953"
             ],
             [
              0.7777777777777778,
              "#fb9f3a"
             ],
             [
              0.8888888888888888,
              "#fdca26"
             ],
             [
              1,
              "#f0f921"
             ]
            ],
            "type": "heatmapgl"
           }
          ],
          "histogram": [
           {
            "marker": {
             "pattern": {
              "fillmode": "overlay",
              "size": 10,
              "solidity": 0.2
             }
            },
            "type": "histogram"
           }
          ],
          "histogram2d": [
           {
            "colorbar": {
             "outlinewidth": 0,
             "ticks": ""
            },
            "colorscale": [
             [
              0,
              "#0d0887"
             ],
             [
              0.1111111111111111,
              "#46039f"
             ],
             [
              0.2222222222222222,
              "#7201a8"
             ],
             [
              0.3333333333333333,
              "#9c179e"
             ],
             [
              0.4444444444444444,
              "#bd3786"
             ],
             [
              0.5555555555555556,
              "#d8576b"
             ],
             [
              0.6666666666666666,
              "#ed7953"
             ],
             [
              0.7777777777777778,
              "#fb9f3a"
             ],
             [
              0.8888888888888888,
              "#fdca26"
             ],
             [
              1,
              "#f0f921"
             ]
            ],
            "type": "histogram2d"
           }
          ],
          "histogram2dcontour": [
           {
            "colorbar": {
             "outlinewidth": 0,
             "ticks": ""
            },
            "colorscale": [
             [
              0,
              "#0d0887"
             ],
             [
              0.1111111111111111,
              "#46039f"
             ],
             [
              0.2222222222222222,
              "#7201a8"
             ],
             [
              0.3333333333333333,
              "#9c179e"
             ],
             [
              0.4444444444444444,
              "#bd3786"
             ],
             [
              0.5555555555555556,
              "#d8576b"
             ],
             [
              0.6666666666666666,
              "#ed7953"
             ],
             [
              0.7777777777777778,
              "#fb9f3a"
             ],
             [
              0.8888888888888888,
              "#fdca26"
             ],
             [
              1,
              "#f0f921"
             ]
            ],
            "type": "histogram2dcontour"
           }
          ],
          "mesh3d": [
           {
            "colorbar": {
             "outlinewidth": 0,
             "ticks": ""
            },
            "type": "mesh3d"
           }
          ],
          "parcoords": [
           {
            "line": {
             "colorbar": {
              "outlinewidth": 0,
              "ticks": ""
             }
            },
            "type": "parcoords"
           }
          ],
          "pie": [
           {
            "automargin": true,
            "type": "pie"
           }
          ],
          "scatter": [
           {
            "fillpattern": {
             "fillmode": "overlay",
             "size": 10,
             "solidity": 0.2
            },
            "type": "scatter"
           }
          ],
          "scatter3d": [
           {
            "line": {
             "colorbar": {
              "outlinewidth": 0,
              "ticks": ""
             }
            },
            "marker": {
             "colorbar": {
              "outlinewidth": 0,
              "ticks": ""
             }
            },
            "type": "scatter3d"
           }
          ],
          "scattercarpet": [
           {
            "marker": {
             "colorbar": {
              "outlinewidth": 0,
              "ticks": ""
             }
            },
            "type": "scattercarpet"
           }
          ],
          "scattergeo": [
           {
            "marker": {
             "colorbar": {
              "outlinewidth": 0,
              "ticks": ""
             }
            },
            "type": "scattergeo"
           }
          ],
          "scattergl": [
           {
            "marker": {
             "colorbar": {
              "outlinewidth": 0,
              "ticks": ""
             }
            },
            "type": "scattergl"
           }
          ],
          "scattermapbox": [
           {
            "marker": {
             "colorbar": {
              "outlinewidth": 0,
              "ticks": ""
             }
            },
            "type": "scattermapbox"
           }
          ],
          "scatterpolar": [
           {
            "marker": {
             "colorbar": {
              "outlinewidth": 0,
              "ticks": ""
             }
            },
            "type": "scatterpolar"
           }
          ],
          "scatterpolargl": [
           {
            "marker": {
             "colorbar": {
              "outlinewidth": 0,
              "ticks": ""
             }
            },
            "type": "scatterpolargl"
           }
          ],
          "scatterternary": [
           {
            "marker": {
             "colorbar": {
              "outlinewidth": 0,
              "ticks": ""
             }
            },
            "type": "scatterternary"
           }
          ],
          "surface": [
           {
            "colorbar": {
             "outlinewidth": 0,
             "ticks": ""
            },
            "colorscale": [
             [
              0,
              "#0d0887"
             ],
             [
              0.1111111111111111,
              "#46039f"
             ],
             [
              0.2222222222222222,
              "#7201a8"
             ],
             [
              0.3333333333333333,
              "#9c179e"
             ],
             [
              0.4444444444444444,
              "#bd3786"
             ],
             [
              0.5555555555555556,
              "#d8576b"
             ],
             [
              0.6666666666666666,
              "#ed7953"
             ],
             [
              0.7777777777777778,
              "#fb9f3a"
             ],
             [
              0.8888888888888888,
              "#fdca26"
             ],
             [
              1,
              "#f0f921"
             ]
            ],
            "type": "surface"
           }
          ],
          "table": [
           {
            "cells": {
             "fill": {
              "color": "#EBF0F8"
             },
             "line": {
              "color": "white"
             }
            },
            "header": {
             "fill": {
              "color": "#C8D4E3"
             },
             "line": {
              "color": "white"
             }
            },
            "type": "table"
           }
          ]
         },
         "layout": {
          "annotationdefaults": {
           "arrowcolor": "#2a3f5f",
           "arrowhead": 0,
           "arrowwidth": 1
          },
          "autotypenumbers": "strict",
          "coloraxis": {
           "colorbar": {
            "outlinewidth": 0,
            "ticks": ""
           }
          },
          "colorscale": {
           "diverging": [
            [
             0,
             "#8e0152"
            ],
            [
             0.1,
             "#c51b7d"
            ],
            [
             0.2,
             "#de77ae"
            ],
            [
             0.3,
             "#f1b6da"
            ],
            [
             0.4,
             "#fde0ef"
            ],
            [
             0.5,
             "#f7f7f7"
            ],
            [
             0.6,
             "#e6f5d0"
            ],
            [
             0.7,
             "#b8e186"
            ],
            [
             0.8,
             "#7fbc41"
            ],
            [
             0.9,
             "#4d9221"
            ],
            [
             1,
             "#276419"
            ]
           ],
           "sequential": [
            [
             0,
             "#0d0887"
            ],
            [
             0.1111111111111111,
             "#46039f"
            ],
            [
             0.2222222222222222,
             "#7201a8"
            ],
            [
             0.3333333333333333,
             "#9c179e"
            ],
            [
             0.4444444444444444,
             "#bd3786"
            ],
            [
             0.5555555555555556,
             "#d8576b"
            ],
            [
             0.6666666666666666,
             "#ed7953"
            ],
            [
             0.7777777777777778,
             "#fb9f3a"
            ],
            [
             0.8888888888888888,
             "#fdca26"
            ],
            [
             1,
             "#f0f921"
            ]
           ],
           "sequentialminus": [
            [
             0,
             "#0d0887"
            ],
            [
             0.1111111111111111,
             "#46039f"
            ],
            [
             0.2222222222222222,
             "#7201a8"
            ],
            [
             0.3333333333333333,
             "#9c179e"
            ],
            [
             0.4444444444444444,
             "#bd3786"
            ],
            [
             0.5555555555555556,
             "#d8576b"
            ],
            [
             0.6666666666666666,
             "#ed7953"
            ],
            [
             0.7777777777777778,
             "#fb9f3a"
            ],
            [
             0.8888888888888888,
             "#fdca26"
            ],
            [
             1,
             "#f0f921"
            ]
           ]
          },
          "colorway": [
           "#636efa",
           "#EF553B",
           "#00cc96",
           "#ab63fa",
           "#FFA15A",
           "#19d3f3",
           "#FF6692",
           "#B6E880",
           "#FF97FF",
           "#FECB52"
          ],
          "font": {
           "color": "#2a3f5f"
          },
          "geo": {
           "bgcolor": "white",
           "lakecolor": "white",
           "landcolor": "#E5ECF6",
           "showlakes": true,
           "showland": true,
           "subunitcolor": "white"
          },
          "hoverlabel": {
           "align": "left"
          },
          "hovermode": "closest",
          "mapbox": {
           "style": "light"
          },
          "paper_bgcolor": "white",
          "plot_bgcolor": "#E5ECF6",
          "polar": {
           "angularaxis": {
            "gridcolor": "white",
            "linecolor": "white",
            "ticks": ""
           },
           "bgcolor": "#E5ECF6",
           "radialaxis": {
            "gridcolor": "white",
            "linecolor": "white",
            "ticks": ""
           }
          },
          "scene": {
           "xaxis": {
            "backgroundcolor": "#E5ECF6",
            "gridcolor": "white",
            "gridwidth": 2,
            "linecolor": "white",
            "showbackground": true,
            "ticks": "",
            "zerolinecolor": "white"
           },
           "yaxis": {
            "backgroundcolor": "#E5ECF6",
            "gridcolor": "white",
            "gridwidth": 2,
            "linecolor": "white",
            "showbackground": true,
            "ticks": "",
            "zerolinecolor": "white"
           },
           "zaxis": {
            "backgroundcolor": "#E5ECF6",
            "gridcolor": "white",
            "gridwidth": 2,
            "linecolor": "white",
            "showbackground": true,
            "ticks": "",
            "zerolinecolor": "white"
           }
          },
          "shapedefaults": {
           "line": {
            "color": "#2a3f5f"
           }
          },
          "ternary": {
           "aaxis": {
            "gridcolor": "white",
            "linecolor": "white",
            "ticks": ""
           },
           "baxis": {
            "gridcolor": "white",
            "linecolor": "white",
            "ticks": ""
           },
           "bgcolor": "#E5ECF6",
           "caxis": {
            "gridcolor": "white",
            "linecolor": "white",
            "ticks": ""
           }
          },
          "title": {
           "x": 0.05
          },
          "xaxis": {
           "automargin": true,
           "gridcolor": "white",
           "linecolor": "white",
           "ticks": "",
           "title": {
            "standoff": 15
           },
           "zerolinecolor": "white",
           "zerolinewidth": 2
          },
          "yaxis": {
           "automargin": true,
           "gridcolor": "white",
           "linecolor": "white",
           "ticks": "",
           "title": {
            "standoff": 15
           },
           "zerolinecolor": "white",
           "zerolinewidth": 2
          }
         }
        }
       }
      },
      "image/png": "[encoded data removed]",
      "text/html": [
       "<div>                            <div id=\"01ef0939-81b7-4864-ae9f-a7e0426b4dba\" class=\"plotly-graph-div\" style=\"height:525px; width:100%;\"></div>            <script type=\"text/javascript\">                require([\"plotly\"], function(Plotly) {                    window.PLOTLYENV=window.PLOTLYENV || {};                                    if (document.getElementById(\"01ef0939-81b7-4864-ae9f-a7e0426b4dba\")) {                    Plotly.newPlot(                        \"01ef0939-81b7-4864-ae9f-a7e0426b4dba\",                        [{\"hovertemplate\":\"feature1=%{x}<br>feature2=%{y}<br>target=%{z}<extra></extra>\",\"legendgroup\":\"\",\"marker\":{\"color\":\"#636efa\",\"symbol\":\"circle\"},\"mode\":\"markers\",\"name\":\"\",\"scene\":\"scene\",\"showlegend\":false,\"x\":[0.2255560906588911,1.706776662648001,0.9959386919573585,-0.7880074136711541,-0.3283638316138342,1.0875944011865015,-0.22356471041929263,-0.8976941380889519,-0.538745333020917,1.8503291827558563,0.018367191891088954,0.591326595348238,-2.032131700089671,2.03764556684387,-1.636121935978785,-0.6871613427363649,-0.4811607436396592,-0.1034070955322806,1.6603857469450884,-1.9507081305266647,-1.6451345361087732,0.8083223429093401,1.3687789368555139,0.8727910309905321,0.14796451309781988,-0.33257221566651574,-0.10426395775730457,1.0888683051139056,0.5412682849074628,0.4859827939877661,-0.16879295098514793,0.23719780516068112,-1.143026011931037,0.8335800588167008,1.1508058818012807,0.4787352530274615,0.8409220483540537,0.2549499316709183,0.8517226465547335,1.070182226144127,1.6828033919936993,0.23619085706297643,0.06104078172957768,1.638505061309836,-1.1190286906695646,0.6984807570916777,0.30552026105892094,1.6715758357919295,-1.5088249489236216,-0.06820740166991825,1.6921410787091804,-0.8683222841380805,-0.5094609283019899,-0.668121951721492,-0.011992396387235912,-0.06434252789958668,2.0460366715696625,-0.8996798726918661,-0.5413395918539258,0.16375346662387463,0.38689861749050786,0.6174569057694034,-0.015329227124468598,-0.16824432290117144,-0.38299287096359713,-0.7285139564320728,-0.855141064836746,0.6334461892076559,-1.5060102420803338,0.9764094613389526,-1.4897332081405177,0.743256753366924,-1.2669602948344563,1.3594289783686786,1.3714940625791063,1.978437044028631,-1.039617513939303,0.034085313256356324,-0.5309560051252871,-0.2322612675884804,-1.9325640400146034,-1.6775052560118313,0.24927122503192006,-0.35748160484894625,0.19491924627641344,0.4186795042068399,1.43425315720215,-0.8630527895784144,-0.024145754570192142,0.04959650620182112,0.8488814351888287,-0.9537668608900949,-0.15149034262104358,1.2874972424257694,-0.5705985146913682,0.7155063828273325,0.5762374923727714,0.6269671000969604,-0.0649168601606317,-0.04192882852824145],\"y\":[-0.0838829663421895,0.5864329282123466,1.0535506239157608,0.21171823029467163,0.3957636758698903,1.1952678979709566,-0.616480385965011,-0.9705929381530103,-0.37761585042159074,-0.20795212543784689,0.546984153850316,-1.34873257853654,-0.2027093082352961,-1.8867703162723575,0.1796284589768894,0.5308514018804218,0.13305146261743928,0.19957214996872158,-0.027441776223489808,0.5354730322069432,0.06571414392989924,-1.41777779406754,-0.8695221287597362,-0.291341327231362,1.4191359043100384,-0.4386289225970281,-1.6862230692165756,-0.5631455642354982,0.038304045197569594,0.23666011988344457,0.06817810908131147,-0.3520895697161724,-0.7897885945026379,0.32665246219781346,1.4079963931363348,-1.2578966081126568,0.05380180892757645,1.436282358201436,-0.6966605002728125,-0.9710369953952851,-0.5391622618653585,-0.6894710855257224,0.778536340064148,-0.7645438866951728,1.2674671233419472,-1.9482960537076297,1.3427356861096131,1.0607759974821376,0.9348188690856547,0.4865794053618265,-0.26077169326777,0.9325253196334066,-2.3882902740130407,1.729818344681823,0.2824612833397911,0.32917919566927,-0.016437092296794128,1.296649831872148,0.259990511393751,2.41085258812096,0.5253636843571667,-0.6158321658104197,-0.2249911804786802,-0.83728081650146,0.22838455582558048,-0.46509911385883956,-0.26087414854208524,0.3076641094332312,-1.4711159653612091,-0.9728830590190167,-1.3900518276136204,-1.902622160606081,0.14524893971647443,-0.7485817139900628,-2.0993589559813097,-1.2146573014152822,0.7545562354112484,0.1261079078950381,0.4500603327603142,-0.510002372072189,-1.2231146203542111,1.2656613300856425,2.500546604820429,-0.9821702649018884,-0.4615205235385818,0.40115606896546707,-0.8031665677056273,0.7047507161306088,1.0297507827799808,2.2324460935340458,0.4704976645802117,0.3889195353269632,-0.7106753266293001,0.9406777151906689,-0.22316935867701515,-0.8996845625835992,-0.17349416220685862,1.0816313037282441,-1.339072671773539,-0.14461066660697727],\"z\":[8.988024301570828,196.43787840800672,138.49081299838733,19.440548419228634,42.76653559320479,81.3544902158282,-19.074648296058022,-49.79538788296409,26.48781928302715,69.63749056442728,27.20973845191625,39.70776121750494,-216.1672175292881,92.3084431580353,-129.11166892940798,18.644616972548896,-35.25538276857331,9.945998007818533,113.07860847537962,-99.03222973121241,-110.55122520183355,-36.07607036668944,75.31885838955964,42.29443283264897,153.52752017918652,-63.72724035480543,-168.47309839618094,18.740212065065624,-0.43499550010412236,30.605591821887216,70.96848342811849,-71.10824571435417,-105.80137296806674,2.6291249698226054,49.43526108056865,-71.94373281631283,82.24888291343431,145.44363206557944,-64.97044077883257,-44.133579735502714,77.58433624836736,-67.55410417305964,-61.9316681946061,136.2442520024722,53.0621323035702,-9.053649539323189,182.4369852617276,150.667092949977,16.543187448462866,1.9699144358895104,97.84658624053901,34.019654599981045,-109.69928634829711,98.47564748664317,-14.823059882784408,20.98759355335241,166.15415652629127,17.27656498670012,-85.06935042936176,107.67794474927838,148.76997253202927,-16.596493897896323,-14.975515482019905,-19.473015596112816,0.038262364610652355,-73.20228849477633,-45.416855322294126,19.69754625729228,-232.0955471666054,32.34499382189562,-151.54329499329356,-98.12201977261307,-93.93522158366221,66.1520207354545,-24.163918381148093,42.80419946736221,-100.84053203998762,38.556206516771724,32.764454933361144,-12.176059203974845,-182.9652510689629,-74.82219905654038,82.29952016124679,-58.66228750266621,19.641853528614725,142.20084204863605,113.6022689932053,-100.52744776077112,124.7153772809013,121.70684195856305,59.56540925339311,4.380588126470215,-53.5513478610971,155.62722799405464,8.158153914363922,24.440211840606743,31.632306793416095,52.29256112733401,-128.03360921798682,9.212387699404871],\"type\":\"scatter3d\"}],                        {\"template\":{\"data\":{\"histogram2dcontour\":[{\"type\":\"histogram2dcontour\",\"colorbar\":{\"outlinewidth\":0,\"ticks\":\"\"},\"colorscale\":[[0.0,\"#0d0887\"],[0.1111111111111111,\"#46039f\"],[0.2222222222222222,\"#7201a8\"],[0.3333333333333333,\"#9c179e\"],[0.4444444444444444,\"#bd3786\"],[0.5555555555555556,\"#d8576b\"],[0.6666666666666666,\"#ed7953\"],[0.7777777777777778,\"#fb9f3a\"],[0.8888888888888888,\"#fdca26\"],[1.0,\"#f0f921\"]]}],\"choropleth\":[{\"type\":\"choropleth\",\"colorbar\":{\"outlinewidth\":0,\"ticks\":\"\"}}],\"histogram2d\":[{\"type\":\"histogram2d\",\"colorbar\":{\"outlinewidth\":0,\"ticks\":\"\"},\"colorscale\":[[0.0,\"#0d0887\"],[0.1111111111111111,\"#46039f\"],[0.2222222222222222,\"#7201a8\"],[0.3333333333333333,\"#9c179e\"],[0.4444444444444444,\"#bd3786\"],[0.5555555555555556,\"#d8576b\"],[0.6666666666666666,\"#ed7953\"],[0.7777777777777778,\"#fb9f3a\"],[0.8888888888888888,\"#fdca26\"],[1.0,\"#f0f921\"]]}],\"heatmap\":[{\"type\":\"heatmap\",\"colorbar\":{\"outlinewidth\":0,\"ticks\":\"\"},\"colorscale\":[[0.0,\"#0d0887\"],[0.1111111111111111,\"#46039f\"],[0.2222222222222222,\"#7201a8\"],[0.3333333333333333,\"#9c179e\"],[0.4444444444444444,\"#bd3786\"],[0.5555555555555556,\"#d8576b\"],[0.6666666666666666,\"#ed7953\"],[0.7777777777777778,\"#fb9f3a\"],[0.8888888888888888,\"#fdca26\"],[1.0,\"#f0f921\"]]}],\"heatmapgl\":[{\"type\":\"heatmapgl\",\"colorbar\":{\"outlinewidth\":0,\"ticks\":\"\"},\"colorscale\":[[0.0,\"#0d0887\"],[0.1111111111111111,\"#46039f\"],[0.2222222222222222,\"#7201a8\"],[0.3333333333333333,\"#9c179e\"],[0.4444444444444444,\"#bd3786\"],[0.5555555555555556,\"#d8576b\"],[0.6666666666666666,\"#ed7953\"],[0.7777777777777778,\"#fb9f3a\"],[0.8888888888888888,\"#fdca26\"],[1.0,\"#f0f921\"]]}],\"contourcarpet\":[{\"type\":\"contourcarpet\",\"colorbar\":{\"outlinewidth\":0,\"ticks\":\"\"}}],\"contour\":[{\"type\":\"contour\",\"colorbar\":{\"outlinewidth\":0,\"ticks\":\"\"},\"colorscale\":[[0.0,\"#0d0887\"],[0.1111111111111111,\"#46039f\"],[0.2222222222222222,\"#7201a8\"],[0.3333333333333333,\"#9c179e\"],[0.4444444444444444,\"#bd3786\"],[0.5555555555555556,\"#d8576b\"],[0.6666666666666666,\"#ed7953\"],[0.7777777777777778,\"#fb9f3a\"],[0.8888888888888888,\"#fdca26\"],[1.0,\"#f0f921\"]]}],\"surface\":[{\"type\":\"surface\",\"colorbar\":{\"outlinewidth\":0,\"ticks\":\"\"},\"colorscale\":[[0.0,\"#0d0887\"],[0.1111111111111111,\"#46039f\"],[0.2222222222222222,\"#7201a8\"],[0.3333333333333333,\"#9c179e\"],[0.4444444444444444,\"#bd3786\"],[0.5555555555555556,\"#d8576b\"],[0.6666666666666666,\"#ed7953\"],[0.7777777777777778,\"#fb9f3a\"],[0.8888888888888888,\"#fdca26\"],[1.0,\"#f0f921\"]]}],\"mesh3d\":[{\"type\":\"mesh3d\",\"colorbar\":{\"outlinewidth\":0,\"ticks\":\"\"}}],\"scatter\":[{\"fillpattern\":{\"fillmode\":\"overlay\",\"size\":10,\"solidity\":0.2},\"type\":\"scatter\"}],\"parcoords\":[{\"type\":\"parcoords\",\"line\":{\"colorbar\":{\"outlinewidth\":0,\"ticks\":\"\"}}}],\"scatterpolargl\":[{\"type\":\"scatterpolargl\",\"marker\":{\"colorbar\":{\"outlinewidth\":0,\"ticks\":\"\"}}}],\"bar\":[{\"error_x\":{\"color\":\"#2a3f5f\"},\"error_y\":{\"color\":\"#2a3f5f\"},\"marker\":{\"line\":{\"color\":\"#E5ECF6\",\"width\":0.5},\"pattern\":{\"fillmode\":\"overlay\",\"size\":10,\"solidity\":0.2}},\"type\":\"bar\"}],\"scattergeo\":[{\"type\":\"scattergeo\",\"marker\":{\"colorbar\":{\"outlinewidth\":0,\"ticks\":\"\"}}}],\"scatterpolar\":[{\"type\":\"scatterpolar\",\"marker\":{\"colorbar\":{\"outlinewidth\":0,\"ticks\":\"\"}}}],\"histogram\":[{\"marker\":{\"pattern\":{\"fillmode\":\"overlay\",\"size\":10,\"solidity\":0.2}},\"type\":\"histogram\"}],\"scattergl\":[{\"type\":\"scattergl\",\"marker\":{\"colorbar\":{\"outlinewidth\":0,\"ticks\":\"\"}}}],\"scatter3d\":[{\"type\":\"scatter3d\",\"line\":{\"colorbar\":{\"outlinewidth\":0,\"ticks\":\"\"}},\"marker\":{\"colorbar\":{\"outlinewidth\":0,\"ticks\":\"\"}}}],\"scattermapbox\":[{\"type\":\"scattermapbox\",\"marker\":{\"colorbar\":{\"outlinewidth\":0,\"ticks\":\"\"}}}],\"scatterternary\":[{\"type\":\"scatterternary\",\"marker\":{\"colorbar\":{\"outlinewidth\":0,\"ticks\":\"\"}}}],\"scattercarpet\":[{\"type\":\"scattercarpet\",\"marker\":{\"colorbar\":{\"outlinewidth\":0,\"ticks\":\"\"}}}],\"carpet\":[{\"aaxis\":{\"endlinecolor\":\"#2a3f5f\",\"gridcolor\":\"white\",\"linecolor\":\"white\",\"minorgridcolor\":\"white\",\"startlinecolor\":\"#2a3f5f\"},\"baxis\":{\"endlinecolor\":\"#2a3f5f\",\"gridcolor\":\"white\",\"linecolor\":\"white\",\"minorgridcolor\":\"white\",\"startlinecolor\":\"#2a3f5f\"},\"type\":\"carpet\"}],\"table\":[{\"cells\":{\"fill\":{\"color\":\"#EBF0F8\"},\"line\":{\"color\":\"white\"}},\"header\":{\"fill\":{\"color\":\"#C8D4E3\"},\"line\":{\"color\":\"white\"}},\"type\":\"table\"}],\"barpolar\":[{\"marker\":{\"line\":{\"color\":\"#E5ECF6\",\"width\":0.5},\"pattern\":{\"fillmode\":\"overlay\",\"size\":10,\"solidity\":0.2}},\"type\":\"barpolar\"}],\"pie\":[{\"automargin\":true,\"type\":\"pie\"}]},\"layout\":{\"autotypenumbers\":\"strict\",\"colorway\":[\"#636efa\",\"#EF553B\",\"#00cc96\",\"#ab63fa\",\"#FFA15A\",\"#19d3f3\",\"#FF6692\",\"#B6E880\",\"#FF97FF\",\"#FECB52\"],\"font\":{\"color\":\"#2a3f5f\"},\"hovermode\":\"closest\",\"hoverlabel\":{\"align\":\"left\"},\"paper_bgcolor\":\"white\",\"plot_bgcolor\":\"#E5ECF6\",\"polar\":{\"bgcolor\":\"#E5ECF6\",\"angularaxis\":{\"gridcolor\":\"white\",\"linecolor\":\"white\",\"ticks\":\"\"},\"radialaxis\":{\"gridcolor\":\"white\",\"linecolor\":\"white\",\"ticks\":\"\"}},\"ternary\":{\"bgcolor\":\"#E5ECF6\",\"aaxis\":{\"gridcolor\":\"white\",\"linecolor\":\"white\",\"ticks\":\"\"},\"baxis\":{\"gridcolor\":\"white\",\"linecolor\":\"white\",\"ticks\":\"\"},\"caxis\":{\"gridcolor\":\"white\",\"linecolor\":\"white\",\"ticks\":\"\"}},\"coloraxis\":{\"colorbar\":{\"outlinewidth\":0,\"ticks\":\"\"}},\"colorscale\":{\"sequential\":[[0.0,\"#0d0887\"],[0.1111111111111111,\"#46039f\"],[0.2222222222222222,\"#7201a8\"],[0.3333333333333333,\"#9c179e\"],[0.4444444444444444,\"#bd3786\"],[0.5555555555555556,\"#d8576b\"],[0.6666666666666666,\"#ed7953\"],[0.7777777777777778,\"#fb9f3a\"],[0.8888888888888888,\"#fdca26\"],[1.0,\"#f0f921\"]],\"sequentialminus\":[[0.0,\"#0d0887\"],[0.1111111111111111,\"#46039f\"],[0.2222222222222222,\"#7201a8\"],[0.3333333333333333,\"#9c179e\"],[0.4444444444444444,\"#bd3786\"],[0.5555555555555556,\"#d8576b\"],[0.6666666666666666,\"#ed7953\"],[0.7777777777777778,\"#fb9f3a\"],[0.8888888888888888,\"#fdca26\"],[1.0,\"#f0f921\"]],\"diverging\":[[0,\"#8e0152\"],[0.1,\"#c51b7d\"],[0.2,\"#de77ae\"],[0.3,\"#f1b6da\"],[0.4,\"#fde0ef\"],[0.5,\"#f7f7f7\"],[0.6,\"#e6f5d0\"],[0.7,\"#b8e186\"],[0.8,\"#7fbc41\"],[0.9,\"#4d9221\"],[1,\"#276419\"]]},\"xaxis\":{\"gridcolor\":\"white\",\"linecolor\":\"white\",\"ticks\":\"\",\"title\":{\"standoff\":15},\"zerolinecolor\":\"white\",\"automargin\":true,\"zerolinewidth\":2},\"yaxis\":{\"gridcolor\":\"white\",\"linecolor\":\"white\",\"ticks\":\"\",\"title\":{\"standoff\":15},\"zerolinecolor\":\"white\",\"automargin\":true,\"zerolinewidth\":2},\"scene\":{\"xaxis\":{\"backgroundcolor\":\"#E5ECF6\",\"gridcolor\":\"white\",\"linecolor\":\"white\",\"showbackground\":true,\"ticks\":\"\",\"zerolinecolor\":\"white\",\"gridwidth\":2},\"yaxis\":{\"backgroundcolor\":\"#E5ECF6\",\"gridcolor\":\"white\",\"linecolor\":\"white\",\"showbackground\":true,\"ticks\":\"\",\"zerolinecolor\":\"white\",\"gridwidth\":2},\"zaxis\":{\"backgroundcolor\":\"#E5ECF6\",\"gridcolor\":\"white\",\"linecolor\":\"white\",\"showbackground\":true,\"ticks\":\"\",\"zerolinecolor\":\"white\",\"gridwidth\":2}},\"shapedefaults\":{\"line\":{\"color\":\"#2a3f5f\"}},\"annotationdefaults\":{\"arrowcolor\":\"#2a3f5f\",\"arrowhead\":0,\"arrowwidth\":1},\"geo\":{\"bgcolor\":\"white\",\"landcolor\":\"#E5ECF6\",\"subunitcolor\":\"white\",\"showland\":true,\"showlakes\":true,\"lakecolor\":\"white\"},\"title\":{\"x\":0.05},\"mapbox\":{\"style\":\"light\"}}},\"scene\":{\"domain\":{\"x\":[0.0,1.0],\"y\":[0.0,1.0]},\"xaxis\":{\"title\":{\"text\":\"feature1\"}},\"yaxis\":{\"title\":{\"text\":\"feature2\"}},\"zaxis\":{\"title\":{\"text\":\"target\"}}},\"legend\":{\"tracegroupgap\":0},\"margin\":{\"t\":60}},                        {\"responsive\": true}                    ).then(function(){\n",
       "                            \n",
       "var gd = document.getElementById('01ef0939-81b7-4864-ae9f-a7e0426b4dba');\n",
       "var x = new MutationObserver(function (mutations, observer) {{\n",
       "        var display = window.getComputedStyle(gd).display;\n",
       "        if (!display || display === 'none') {{\n",
       "            console.log([gd, 'removed!']);\n",
       "            Plotly.purge(gd);\n",
       "            observer.disconnect();\n",
       "        }}\n",
       "}});\n",
       "\n",
       "// Listen for the removal of the full notebook cells\n",
       "var notebookContainer = gd.closest('#notebook-container');\n",
       "if (notebookContainer) {{\n",
       "    x.observe(notebookContainer, {childList: true});\n",
       "}}\n",
       "\n",
       "// Listen for the clearing of the current output cell\n",
       "var outputEl = gd.closest('.output');\n",
       "if (outputEl) {{\n",
       "    x.observe(outputEl, {childList: true});\n",
       "}}\n",
       "\n",
       "                        })                };                });            </script>        </div>"
      ]
     },
     "metadata": {},
     "output_type": "display_data"
    }
   ],
   "source": [
    "fig = px.scatter_3d(df, x='feature1', y='feature2', z='target')\n",
    "\n",
    "fig.show()"
   ]
  },
  {
   "cell_type": "code",
   "execution_count": 19,
   "metadata": {
    "id": "JuxDxS4JB80Z"
   },
   "outputs": [],
   "source": [
    "from sklearn.model_selection import train_test_split\n",
    "X_train,X_test,y_train,y_test = train_test_split(X,y,test_size=0.2,random_state=3)"
   ]
  },
  {
   "cell_type": "code",
   "execution_count": 20,
   "metadata": {
    "id": "eG18yML6nl0h"
   },
   "outputs": [],
   "source": [
    "from sklearn.linear_model import LinearRegression"
   ]
  },
  {
   "cell_type": "code",
   "execution_count": 21,
   "metadata": {
    "id": "W_OGmF3npCKC"
   },
   "outputs": [],
   "source": [
    "lr = LinearRegression()"
   ]
  },
  {
   "cell_type": "code",
   "execution_count": 22,
   "metadata": {
    "colab": {
     "base_uri": "https://localhost:8080/"
    },
    "id": "g6hR7U0epEBR",
    "outputId": "8f1e75c9-8aa6-4450-d8a0-d8df50b9600c"
   },
   "outputs": [
    {
     "data": {
      "text/html": [
       "<style>#sk-container-id-2 {color: black;}#sk-container-id-2 pre{padding: 0;}#sk-container-id-2 div.sk-toggleable {background-color: white;}#sk-container-id-2 label.sk-toggleable__label {cursor: pointer;display: block;width: 100%;margin-bottom: 0;padding: 0.3em;box-sizing: border-box;text-align: center;}#sk-container-id-2 label.sk-toggleable__label-arrow:before {content: \"▸\";float: left;margin-right: 0.25em;color: #696969;}#sk-container-id-2 label.sk-toggleable__label-arrow:hover:before {color: black;}#sk-container-id-2 div.sk-estimator:hover label.sk-toggleable__label-arrow:before {color: black;}#sk-container-id-2 div.sk-toggleable__content {max-height: 0;max-width: 0;overflow: hidden;text-align: left;background-color: #f0f8ff;}#sk-container-id-2 div.sk-toggleable__content pre {margin: 0.2em;color: black;border-radius: 0.25em;background-color: #f0f8ff;}#sk-container-id-2 input.sk-toggleable__control:checked~div.sk-toggleable__content {max-height: 200px;max-width: 100%;overflow: auto;}#sk-container-id-2 input.sk-toggleable__control:checked~label.sk-toggleable__label-arrow:before {content: \"▾\";}#sk-container-id-2 div.sk-estimator input.sk-toggleable__control:checked~label.sk-toggleable__label {background-color: #d4ebff;}#sk-container-id-2 div.sk-label input.sk-toggleable__control:checked~label.sk-toggleable__label {background-color: #d4ebff;}#sk-container-id-2 input.sk-hidden--visually {border: 0;clip: rect(1px 1px 1px 1px);clip: rect(1px, 1px, 1px, 1px);height: 1px;margin: -1px;overflow: hidden;padding: 0;position: absolute;width: 1px;}#sk-container-id-2 div.sk-estimator {font-family: monospace;background-color: #f0f8ff;border: 1px dotted black;border-radius: 0.25em;box-sizing: border-box;margin-bottom: 0.5em;}#sk-container-id-2 div.sk-estimator:hover {background-color: #d4ebff;}#sk-container-id-2 div.sk-parallel-item::after {content: \"\";width: 100%;border-bottom: 1px solid gray;flex-grow: 1;}#sk-container-id-2 div.sk-label:hover label.sk-toggleable__label {background-color: #d4ebff;}#sk-container-id-2 div.sk-serial::before {content: \"\";position: absolute;border-left: 1px solid gray;box-sizing: border-box;top: 0;bottom: 0;left: 50%;z-index: 0;}#sk-container-id-2 div.sk-serial {display: flex;flex-direction: column;align-items: center;background-color: white;padding-right: 0.2em;padding-left: 0.2em;position: relative;}#sk-container-id-2 div.sk-item {position: relative;z-index: 1;}#sk-container-id-2 div.sk-parallel {display: flex;align-items: stretch;justify-content: center;background-color: white;position: relative;}#sk-container-id-2 div.sk-item::before, #sk-container-id-2 div.sk-parallel-item::before {content: \"\";position: absolute;border-left: 1px solid gray;box-sizing: border-box;top: 0;bottom: 0;left: 50%;z-index: -1;}#sk-container-id-2 div.sk-parallel-item {display: flex;flex-direction: column;z-index: 1;position: relative;background-color: white;}#sk-container-id-2 div.sk-parallel-item:first-child::after {align-self: flex-end;width: 50%;}#sk-container-id-2 div.sk-parallel-item:last-child::after {align-self: flex-start;width: 50%;}#sk-container-id-2 div.sk-parallel-item:only-child::after {width: 0;}#sk-container-id-2 div.sk-dashed-wrapped {border: 1px dashed gray;margin: 0 0.4em 0.5em 0.4em;box-sizing: border-box;padding-bottom: 0.4em;background-color: white;}#sk-container-id-2 div.sk-label label {font-family: monospace;font-weight: bold;display: inline-block;line-height: 1.2em;}#sk-container-id-2 div.sk-label-container {text-align: center;}#sk-container-id-2 div.sk-container {/* jupyter's `normalize.less` sets `[hidden] { display: none; }` but bootstrap.min.css set `[hidden] { display: none !important; }` so we also need the `!important` here to be able to override the default hidden behavior on the sphinx rendered scikit-learn.org. See: https://github.com/scikit-learn/scikit-learn/issues/21755 */display: inline-block !important;position: relative;}#sk-container-id-2 div.sk-text-repr-fallback {display: none;}</style><div id=\"sk-container-id-2\" class=\"sk-top-container\"><div class=\"sk-text-repr-fallback\"><pre>LinearRegression()</pre><b>In a Jupyter environment, please rerun this cell to show the HTML representation or trust the notebook. <br />On GitHub, the HTML representation is unable to render, please try loading this page with nbviewer.org.</b></div><div class=\"sk-container\" hidden><div class=\"sk-item\"><div class=\"sk-estimator sk-toggleable\"><input class=\"sk-toggleable__control sk-hidden--visually\" id=\"sk-estimator-id-2\" type=\"checkbox\" checked><label for=\"sk-estimator-id-2\" class=\"sk-toggleable__label sk-toggleable__label-arrow\">LinearRegression</label><div class=\"sk-toggleable__content\"><pre>LinearRegression()</pre></div></div></div></div></div>"
      ],
      "text/plain": [
       "LinearRegression()"
      ]
     },
     "execution_count": 22,
     "metadata": {},
     "output_type": "execute_result"
    }
   ],
   "source": [
    "lr.fit(X_train,y_train)"
   ]
  },
  {
   "cell_type": "code",
   "execution_count": 23,
   "metadata": {
    "id": "eKExpiVMpF9F"
   },
   "outputs": [],
   "source": [
    "y_pred = lr.predict(X_test)"
   ]
  },
  {
   "cell_type": "code",
   "execution_count": 24,
   "metadata": {
    "colab": {
     "base_uri": "https://localhost:8080/"
    },
    "id": "90AXRhgzrSW_",
    "outputId": "8f6d4538-ce4f-44be-90c6-a5e013c8ab80"
   },
   "outputs": [
    {
     "name": "stdout",
     "output_type": "stream",
     "text": [
      "MAE 44.02100458880908\n",
      "MSE 3157.89183811742\n",
      "R2 score 0.32497255559570326\n"
     ]
    }
   ],
   "source": [
    "print(\"MAE\",mean_absolute_error(y_test,y_pred))\n",
    "print(\"MSE\",mean_squared_error(y_test,y_pred))\n",
    "print(\"R2 score\",r2_score(y_test,y_pred))"
   ]
  },
  {
   "cell_type": "code",
   "execution_count": 27,
   "metadata": {
    "id": "GQQrYU8r3fpd"
   },
   "outputs": [],
   "source": [
    "x = np.linspace(-5, 5, 10)\n",
    "y = np.linspace(-5, 5, 10)\n",
    "xGrid, yGrid = np.meshgrid(y, x)\n",
    "\n",
    "z_final = lr.predict(final).reshape(10,10)\n",
    "\n",
    "z = z_final\n",
    "\n",
    "final = np.vstack((xGrid.ravel().reshape(1,100),yGrid.ravel().reshape(1,100))).T"
   ]
  },
  {
   "cell_type": "code",
   "execution_count": 28,
   "metadata": {
    "colab": {
     "base_uri": "https://localhost:8080/",
     "height": 542
    },
    "id": "NpAvnU-t3yV0",
    "outputId": "adac4b74-fa27-4440-eff7-b0643e1f0ce9"
   },
   "outputs": [
    {
     "data": {
      "application/vnd.plotly.v1+json": {
       "config": {
        "plotlyServerURL": "https://plot.ly"
       },
       "data": [
        {
         "hovertemplate": "feature1=%{x}<br>feature2=%{y}<br>target=%{z}<extra></extra>",
         "legendgroup": "",
         "marker": {
          "color": "#636efa",
          "symbol": "circle"
         },
         "mode": "markers",
         "name": "",
         "scene": "scene",
         "showlegend": false,
         "type": "scatter3d",
         "x": [
          0.2255560906588911,
          1.706776662648001,
          0.9959386919573585,
          -0.7880074136711541,
          -0.3283638316138342,
          1.0875944011865015,
          -0.22356471041929263,
          -0.8976941380889519,
          -0.538745333020917,
          1.8503291827558563,
          0.018367191891088954,
          0.591326595348238,
          -2.032131700089671,
          2.03764556684387,
          -1.636121935978785,
          -0.6871613427363649,
          -0.4811607436396592,
          -0.1034070955322806,
          1.6603857469450884,
          -1.9507081305266647,
          -1.6451345361087732,
          0.8083223429093401,
          1.3687789368555139,
          0.8727910309905321,
          0.14796451309781988,
          -0.33257221566651574,
          -0.10426395775730457,
          1.0888683051139056,
          0.5412682849074628,
          0.4859827939877661,
          -0.16879295098514793,
          0.23719780516068112,
          -1.143026011931037,
          0.8335800588167008,
          1.1508058818012807,
          0.4787352530274615,
          0.8409220483540537,
          0.2549499316709183,
          0.8517226465547335,
          1.070182226144127,
          1.6828033919936993,
          0.23619085706297643,
          0.06104078172957768,
          1.638505061309836,
          -1.1190286906695646,
          0.6984807570916777,
          0.30552026105892094,
          1.6715758357919295,
          -1.5088249489236216,
          -0.06820740166991825,
          1.6921410787091804,
          -0.8683222841380805,
          -0.5094609283019899,
          -0.668121951721492,
          -0.011992396387235912,
          -0.06434252789958668,
          2.0460366715696625,
          -0.8996798726918661,
          -0.5413395918539258,
          0.16375346662387463,
          0.38689861749050786,
          0.6174569057694034,
          -0.015329227124468598,
          -0.16824432290117144,
          -0.38299287096359713,
          -0.7285139564320728,
          -0.855141064836746,
          0.6334461892076559,
          -1.5060102420803338,
          0.9764094613389526,
          -1.4897332081405177,
          0.743256753366924,
          -1.2669602948344563,
          1.3594289783686786,
          1.3714940625791063,
          1.978437044028631,
          -1.039617513939303,
          0.034085313256356324,
          -0.5309560051252871,
          -0.2322612675884804,
          -1.9325640400146034,
          -1.6775052560118313,
          0.24927122503192006,
          -0.35748160484894625,
          0.19491924627641344,
          0.4186795042068399,
          1.43425315720215,
          -0.8630527895784144,
          -0.024145754570192142,
          0.04959650620182112,
          0.8488814351888287,
          -0.9537668608900949,
          -0.15149034262104358,
          1.2874972424257694,
          -0.5705985146913682,
          0.7155063828273325,
          0.5762374923727714,
          0.6269671000969604,
          -0.0649168601606317,
          -0.04192882852824145
         ],
         "y": [
          -0.0838829663421895,
          0.5864329282123466,
          1.0535506239157608,
          0.21171823029467163,
          0.3957636758698903,
          1.1952678979709566,
          -0.616480385965011,
          -0.9705929381530103,
          -0.37761585042159074,
          -0.20795212543784689,
          0.546984153850316,
          -1.34873257853654,
          -0.2027093082352961,
          -1.8867703162723575,
          0.1796284589768894,
          0.5308514018804218,
          0.13305146261743928,
          0.19957214996872158,
          -0.027441776223489808,
          0.5354730322069432,
          0.06571414392989924,
          -1.41777779406754,
          -0.8695221287597362,
          -0.291341327231362,
          1.4191359043100384,
          -0.4386289225970281,
          -1.6862230692165756,
          -0.5631455642354982,
          0.038304045197569594,
          0.23666011988344457,
          0.06817810908131147,
          -0.3520895697161724,
          -0.7897885945026379,
          0.32665246219781346,
          1.4079963931363348,
          -1.2578966081126568,
          0.05380180892757645,
          1.436282358201436,
          -0.6966605002728125,
          -0.9710369953952851,
          -0.5391622618653585,
          -0.6894710855257224,
          0.778536340064148,
          -0.7645438866951728,
          1.2674671233419472,
          -1.9482960537076297,
          1.3427356861096131,
          1.0607759974821376,
          0.9348188690856547,
          0.4865794053618265,
          -0.26077169326777,
          0.9325253196334066,
          -2.3882902740130407,
          1.729818344681823,
          0.2824612833397911,
          0.32917919566927,
          -0.016437092296794128,
          1.296649831872148,
          0.259990511393751,
          2.41085258812096,
          0.5253636843571667,
          -0.6158321658104197,
          -0.2249911804786802,
          -0.83728081650146,
          0.22838455582558048,
          -0.46509911385883956,
          -0.26087414854208524,
          0.3076641094332312,
          -1.4711159653612091,
          -0.9728830590190167,
          -1.3900518276136204,
          -1.902622160606081,
          0.14524893971647443,
          -0.7485817139900628,
          -2.0993589559813097,
          -1.2146573014152822,
          0.7545562354112484,
          0.1261079078950381,
          0.4500603327603142,
          -0.510002372072189,
          -1.2231146203542111,
          1.2656613300856425,
          2.500546604820429,
          -0.9821702649018884,
          -0.4615205235385818,
          0.40115606896546707,
          -0.8031665677056273,
          0.7047507161306088,
          1.0297507827799808,
          2.2324460935340458,
          0.4704976645802117,
          0.3889195353269632,
          -0.7106753266293001,
          0.9406777151906689,
          -0.22316935867701515,
          -0.8996845625835992,
          -0.17349416220685862,
          1.0816313037282441,
          -1.339072671773539,
          -0.14461066660697727
         ],
         "z": [
          8.988024301570828,
          196.43787840800672,
          138.49081299838733,
          19.440548419228634,
          42.76653559320479,
          81.3544902158282,
          -19.074648296058022,
          -49.79538788296409,
          26.48781928302715,
          69.63749056442728,
          27.20973845191625,
          39.70776121750494,
          -216.1672175292881,
          92.3084431580353,
          -129.11166892940798,
          18.644616972548896,
          -35.25538276857331,
          9.945998007818533,
          113.07860847537962,
          -99.03222973121241,
          -110.55122520183355,
          -36.07607036668944,
          75.31885838955964,
          42.29443283264897,
          153.52752017918652,
          -63.72724035480543,
          -168.47309839618094,
          18.740212065065624,
          -0.43499550010412236,
          30.605591821887216,
          70.96848342811849,
          -71.10824571435417,
          -105.80137296806674,
          2.6291249698226054,
          49.43526108056865,
          -71.94373281631283,
          82.24888291343431,
          145.44363206557944,
          -64.97044077883257,
          -44.133579735502714,
          77.58433624836736,
          -67.55410417305964,
          -61.9316681946061,
          136.2442520024722,
          53.0621323035702,
          -9.053649539323189,
          182.4369852617276,
          150.667092949977,
          16.543187448462866,
          1.9699144358895104,
          97.84658624053901,
          34.019654599981045,
          -109.69928634829711,
          98.47564748664317,
          -14.823059882784408,
          20.98759355335241,
          166.15415652629127,
          17.27656498670012,
          -85.06935042936176,
          107.67794474927838,
          148.76997253202927,
          -16.596493897896323,
          -14.975515482019905,
          -19.473015596112816,
          0.038262364610652355,
          -73.20228849477633,
          -45.416855322294126,
          19.69754625729228,
          -232.0955471666054,
          32.34499382189562,
          -151.54329499329356,
          -98.12201977261307,
          -93.93522158366221,
          66.1520207354545,
          -24.163918381148093,
          42.80419946736221,
          -100.84053203998762,
          38.556206516771724,
          32.764454933361144,
          -12.176059203974845,
          -182.9652510689629,
          -74.82219905654038,
          82.29952016124679,
          -58.66228750266621,
          19.641853528614725,
          142.20084204863605,
          113.6022689932053,
          -100.52744776077112,
          124.7153772809013,
          121.70684195856305,
          59.56540925339311,
          4.380588126470215,
          -53.5513478610971,
          155.62722799405464,
          8.158153914363922,
          24.440211840606743,
          31.632306793416095,
          52.29256112733401,
          -128.03360921798682,
          9.212387699404871
         ]
        },
        {
         "type": "surface",
         "x": [
          -5,
          -3.888888888888889,
          -2.7777777777777777,
          -1.6666666666666665,
          -0.5555555555555554,
          0.5555555555555554,
          1.666666666666667,
          2.7777777777777786,
          3.8888888888888893,
          5
         ],
         "y": [
          -5,
          -3.888888888888889,
          -2.7777777777777777,
          -1.6666666666666665,
          -0.5555555555555554,
          0.5555555555555554,
          1.666666666666667,
          2.7777777777777786,
          3.8888888888888893,
          5
         ],
         "z": [
          [
           -634.9398738293137,
           -557.405275774451,
           -479.87067771958823,
           -402.3360796647255,
           -324.8014816098628,
           -247.26688355500005,
           -169.73228550013727,
           -92.19768744527452,
           -14.663089390411825,
           62.8715086644509
          ],
          [
           -569.2333649949146,
           -491.6987669400519,
           -414.1641688851891,
           -336.6295708303264,
           -259.0949727754636,
           -181.5603747206009,
           -104.02577666573814,
           -26.491178610875373,
           51.043419443987325,
           128.57801749885007
          ],
          [
           -503.5268561605154,
           -425.9922581056527,
           -348.45766005078997,
           -270.9230619959272,
           -193.38846394106446,
           -115.85386588620176,
           -38.31926783133899,
           39.21533022352378,
           116.74992827838648,
           194.28452633324923
          ],
          [
           -437.8203473261163,
           -360.28574927125356,
           -282.7511512163908,
           -205.21655316152805,
           -127.68195510666531,
           -50.147357051802615,
           27.38724100306016,
           104.92183905792294,
           182.45643711278564,
           259.99103516764836
          ],
          [
           -372.1138384917171,
           -294.5792404368544,
           -217.04464238199165,
           -139.5100443271289,
           -61.97544627226617,
           15.55915178259654,
           93.09374983745931,
           170.6283478923221,
           248.1629459471848,
           325.69754400204755
          ],
          [
           -306.40732965731803,
           -228.87273160245527,
           -151.33813354759252,
           -73.8035354927298,
           3.731062562132955,
           81.26566061699566,
           158.80025867185844,
           236.33485672672123,
           313.8694547815839,
           391.4040528364466
          ],
          [
           -240.7008208229188,
           -163.1662227680561,
           -85.63162471319336,
           -8.097026658330615,
           69.43757139653214,
           146.97216945139485,
           224.50676750625763,
           302.0413655611204,
           379.5759636159831,
           457.1105616708458
          ],
          [
           -174.99431198851966,
           -97.45971393365693,
           -19.92511587879418,
           57.60948217606856,
           135.1440802309313,
           212.67867828579404,
           290.2132763406568,
           367.7478743955196,
           445.2824724503823,
           522.817070505245
          ],
          [
           -109.28780315412054,
           -31.753205099257805,
           45.78139295560495,
           123.31599101046768,
           200.85058906533044,
           278.38518712019317,
           355.91978517505595,
           433.45438322991873,
           510.9889812847814,
           588.5235793396441
          ],
          [
           -43.58129431972141,
           33.95330373514132,
           111.48790179000407,
           189.02249984486684,
           266.55709789972957,
           344.0916959545923,
           421.6262940094551,
           499.16089206431786,
           576.6954901191805,
           654.2300881740432
          ]
         ]
        }
       ],
       "layout": {
        "autosize": true,
        "legend": {
         "tracegroupgap": 0
        },
        "margin": {
         "t": 60
        },
        "scene": {
         "aspectmode": "auto",
         "aspectratio": {
          "x": 1,
          "y": 1,
          "z": 1
         },
         "camera": {
          "center": {
           "x": 0,
           "y": 0,
           "z": 0
          },
          "eye": {
           "x": 1.8808385997279093,
           "y": 0.6383897079077451,
           "z": 1.0593648262216897
          },
          "projection": {
           "type": "perspective"
          },
          "up": {
           "x": 0,
           "y": 0,
           "z": 1
          }
         },
         "domain": {
          "x": [
           0,
           1
          ],
          "y": [
           0,
           1
          ]
         },
         "xaxis": {
          "title": {
           "text": "feature1"
          },
          "type": "linear"
         },
         "yaxis": {
          "title": {
           "text": "feature2"
          },
          "type": "linear"
         },
         "zaxis": {
          "title": {
           "text": "target"
          },
          "type": "linear"
         }
        },
        "template": {
         "data": {
          "bar": [
           {
            "error_x": {
             "color": "#2a3f5f"
            },
            "error_y": {
             "color": "#2a3f5f"
            },
            "marker": {
             "line": {
              "color": "#E5ECF6",
              "width": 0.5
             },
             "pattern": {
              "fillmode": "overlay",
              "size": 10,
              "solidity": 0.2
             }
            },
            "type": "bar"
           }
          ],
          "barpolar": [
           {
            "marker": {
             "line": {
              "color": "#E5ECF6",
              "width": 0.5
             },
             "pattern": {
              "fillmode": "overlay",
              "size": 10,
              "solidity": 0.2
             }
            },
            "type": "barpolar"
           }
          ],
          "carpet": [
           {
            "aaxis": {
             "endlinecolor": "#2a3f5f",
             "gridcolor": "white",
             "linecolor": "white",
             "minorgridcolor": "white",
             "startlinecolor": "#2a3f5f"
            },
            "baxis": {
             "endlinecolor": "#2a3f5f",
             "gridcolor": "white",
             "linecolor": "white",
             "minorgridcolor": "white",
             "startlinecolor": "#2a3f5f"
            },
            "type": "carpet"
           }
          ],
          "choropleth": [
           {
            "colorbar": {
             "outlinewidth": 0,
             "ticks": ""
            },
            "type": "choropleth"
           }
          ],
          "contour": [
           {
            "colorbar": {
             "outlinewidth": 0,
             "ticks": ""
            },
            "colorscale": [
             [
              0,
              "#0d0887"
             ],
             [
              0.1111111111111111,
              "#46039f"
             ],
             [
              0.2222222222222222,
              "#7201a8"
             ],
             [
              0.3333333333333333,
              "#9c179e"
             ],
             [
              0.4444444444444444,
              "#bd3786"
             ],
             [
              0.5555555555555556,
              "#d8576b"
             ],
             [
              0.6666666666666666,
              "#ed7953"
             ],
             [
              0.7777777777777778,
              "#fb9f3a"
             ],
             [
              0.8888888888888888,
              "#fdca26"
             ],
             [
              1,
              "#f0f921"
             ]
            ],
            "type": "contour"
           }
          ],
          "contourcarpet": [
           {
            "colorbar": {
             "outlinewidth": 0,
             "ticks": ""
            },
            "type": "contourcarpet"
           }
          ],
          "heatmap": [
           {
            "colorbar": {
             "outlinewidth": 0,
             "ticks": ""
            },
            "colorscale": [
             [
              0,
              "#0d0887"
             ],
             [
              0.1111111111111111,
              "#46039f"
             ],
             [
              0.2222222222222222,
              "#7201a8"
             ],
             [
              0.3333333333333333,
              "#9c179e"
             ],
             [
              0.4444444444444444,
              "#bd3786"
             ],
             [
              0.5555555555555556,
              "#d8576b"
             ],
             [
              0.6666666666666666,
              "#ed7953"
             ],
             [
              0.7777777777777778,
              "#fb9f3a"
             ],
             [
              0.8888888888888888,
              "#fdca26"
             ],
             [
              1,
              "#f0f921"
             ]
            ],
            "type": "heatmap"
           }
          ],
          "heatmapgl": [
           {
            "colorbar": {
             "outlinewidth": 0,
             "ticks": ""
            },
            "colorscale": [
             [
              0,
              "#0d0887"
             ],
             [
              0.1111111111111111,
              "#46039f"
             ],
             [
              0.2222222222222222,
              "#7201a8"
             ],
             [
              0.3333333333333333,
              "#9c179e"
             ],
             [
              0.4444444444444444,
              "#bd3786"
             ],
             [
              0.5555555555555556,
              "#d8576b"
             ],
             [
              0.6666666666666666,
              "#ed7953"
             ],
             [
              0.7777777777777778,
              "#fb9f3a"
             ],
             [
              0.8888888888888888,
              "#fdca26"
             ],
             [
              1,
              "#f0f921"
             ]
            ],
            "type": "heatmapgl"
           }
          ],
          "histogram": [
           {
            "marker": {
             "pattern": {
              "fillmode": "overlay",
              "size": 10,
              "solidity": 0.2
             }
            },
            "type": "histogram"
           }
          ],
          "histogram2d": [
           {
            "colorbar": {
             "outlinewidth": 0,
             "ticks": ""
            },
            "colorscale": [
             [
              0,
              "#0d0887"
             ],
             [
              0.1111111111111111,
              "#46039f"
             ],
             [
              0.2222222222222222,
              "#7201a8"
             ],
             [
              0.3333333333333333,
              "#9c179e"
             ],
             [
              0.4444444444444444,
              "#bd3786"
             ],
             [
              0.5555555555555556,
              "#d8576b"
             ],
             [
              0.6666666666666666,
              "#ed7953"
             ],
             [
              0.7777777777777778,
              "#fb9f3a"
             ],
             [
              0.8888888888888888,
              "#fdca26"
             ],
             [
              1,
              "#f0f921"
             ]
            ],
            "type": "histogram2d"
           }
          ],
          "histogram2dcontour": [
           {
            "colorbar": {
             "outlinewidth": 0,
             "ticks": ""
            },
            "colorscale": [
             [
              0,
              "#0d0887"
             ],
             [
              0.1111111111111111,
              "#46039f"
             ],
             [
              0.2222222222222222,
              "#7201a8"
             ],
             [
              0.3333333333333333,
              "#9c179e"
             ],
             [
              0.4444444444444444,
              "#bd3786"
             ],
             [
              0.5555555555555556,
              "#d8576b"
             ],
             [
              0.6666666666666666,
              "#ed7953"
             ],
             [
              0.7777777777777778,
              "#fb9f3a"
             ],
             [
              0.8888888888888888,
              "#fdca26"
             ],
             [
              1,
              "#f0f921"
             ]
            ],
            "type": "histogram2dcontour"
           }
          ],
          "mesh3d": [
           {
            "colorbar": {
             "outlinewidth": 0,
             "ticks": ""
            },
            "type": "mesh3d"
           }
          ],
          "parcoords": [
           {
            "line": {
             "colorbar": {
              "outlinewidth": 0,
              "ticks": ""
             }
            },
            "type": "parcoords"
           }
          ],
          "pie": [
           {
            "automargin": true,
            "type": "pie"
           }
          ],
          "scatter": [
           {
            "fillpattern": {
             "fillmode": "overlay",
             "size": 10,
             "solidity": 0.2
            },
            "type": "scatter"
           }
          ],
          "scatter3d": [
           {
            "line": {
             "colorbar": {
              "outlinewidth": 0,
              "ticks": ""
             }
            },
            "marker": {
             "colorbar": {
              "outlinewidth": 0,
              "ticks": ""
             }
            },
            "type": "scatter3d"
           }
          ],
          "scattercarpet": [
           {
            "marker": {
             "colorbar": {
              "outlinewidth": 0,
              "ticks": ""
             }
            },
            "type": "scattercarpet"
           }
          ],
          "scattergeo": [
           {
            "marker": {
             "colorbar": {
              "outlinewidth": 0,
              "ticks": ""
             }
            },
            "type": "scattergeo"
           }
          ],
          "scattergl": [
           {
            "marker": {
             "colorbar": {
              "outlinewidth": 0,
              "ticks": ""
             }
            },
            "type": "scattergl"
           }
          ],
          "scattermapbox": [
           {
            "marker": {
             "colorbar": {
              "outlinewidth": 0,
              "ticks": ""
             }
            },
            "type": "scattermapbox"
           }
          ],
          "scatterpolar": [
           {
            "marker": {
             "colorbar": {
              "outlinewidth": 0,
              "ticks": ""
             }
            },
            "type": "scatterpolar"
           }
          ],
          "scatterpolargl": [
           {
            "marker": {
             "colorbar": {
              "outlinewidth": 0,
              "ticks": ""
             }
            },
            "type": "scatterpolargl"
           }
          ],
          "scatterternary": [
           {
            "marker": {
             "colorbar": {
              "outlinewidth": 0,
              "ticks": ""
             }
            },
            "type": "scatterternary"
           }
          ],
          "surface": [
           {
            "colorbar": {
             "outlinewidth": 0,
             "ticks": ""
            },
            "colorscale": [
             [
              0,
              "#0d0887"
             ],
             [
              0.1111111111111111,
              "#46039f"
             ],
             [
              0.2222222222222222,
              "#7201a8"
             ],
             [
              0.3333333333333333,
              "#9c179e"
             ],
             [
              0.4444444444444444,
              "#bd3786"
             ],
             [
              0.5555555555555556,
              "#d8576b"
             ],
             [
              0.6666666666666666,
              "#ed7953"
             ],
             [
              0.7777777777777778,
              "#fb9f3a"
             ],
             [
              0.8888888888888888,
              "#fdca26"
             ],
             [
              1,
              "#f0f921"
             ]
            ],
            "type": "surface"
           }
          ],
          "table": [
           {
            "cells": {
             "fill": {
              "color": "#EBF0F8"
             },
             "line": {
              "color": "white"
             }
            },
            "header": {
             "fill": {
              "color": "#C8D4E3"
             },
             "line": {
              "color": "white"
             }
            },
            "type": "table"
           }
          ]
         },
         "layout": {
          "annotationdefaults": {
           "arrowcolor": "#2a3f5f",
           "arrowhead": 0,
           "arrowwidth": 1
          },
          "autotypenumbers": "strict",
          "coloraxis": {
           "colorbar": {
            "outlinewidth": 0,
            "ticks": ""
           }
          },
          "colorscale": {
           "diverging": [
            [
             0,
             "#8e0152"
            ],
            [
             0.1,
             "#c51b7d"
            ],
            [
             0.2,
             "#de77ae"
            ],
            [
             0.3,
             "#f1b6da"
            ],
            [
             0.4,
             "#fde0ef"
            ],
            [
             0.5,
             "#f7f7f7"
            ],
            [
             0.6,
             "#e6f5d0"
            ],
            [
             0.7,
             "#b8e186"
            ],
            [
             0.8,
             "#7fbc41"
            ],
            [
             0.9,
             "#4d9221"
            ],
            [
             1,
             "#276419"
            ]
           ],
           "sequential": [
            [
             0,
             "#0d0887"
            ],
            [
             0.1111111111111111,
             "#46039f"
            ],
            [
             0.2222222222222222,
             "#7201a8"
            ],
            [
             0.3333333333333333,
             "#9c179e"
            ],
            [
             0.4444444444444444,
             "#bd3786"
            ],
            [
             0.5555555555555556,
             "#d8576b"
            ],
            [
             0.6666666666666666,
             "#ed7953"
            ],
            [
             0.7777777777777778,
             "#fb9f3a"
            ],
            [
             0.8888888888888888,
             "#fdca26"
            ],
            [
             1,
             "#f0f921"
            ]
           ],
           "sequentialminus": [
            [
             0,
             "#0d0887"
            ],
            [
             0.1111111111111111,
             "#46039f"
            ],
            [
             0.2222222222222222,
             "#7201a8"
            ],
            [
             0.3333333333333333,
             "#9c179e"
            ],
            [
             0.4444444444444444,
             "#bd3786"
            ],
            [
             0.5555555555555556,
             "#d8576b"
            ],
            [
             0.6666666666666666,
             "#ed7953"
            ],
            [
             0.7777777777777778,
             "#fb9f3a"
            ],
            [
             0.8888888888888888,
             "#fdca26"
            ],
            [
             1,
             "#f0f921"
            ]
           ]
          },
          "colorway": [
           "#636efa",
           "#EF553B",
           "#00cc96",
           "#ab63fa",
           "#FFA15A",
           "#19d3f3",
           "#FF6692",
           "#B6E880",
           "#FF97FF",
           "#FECB52"
          ],
          "font": {
           "color": "#2a3f5f"
          },
          "geo": {
           "bgcolor": "white",
           "lakecolor": "white",
           "landcolor": "#E5ECF6",
           "showlakes": true,
           "showland": true,
           "subunitcolor": "white"
          },
          "hoverlabel": {
           "align": "left"
          },
          "hovermode": "closest",
          "mapbox": {
           "style": "light"
          },
          "paper_bgcolor": "white",
          "plot_bgcolor": "#E5ECF6",
          "polar": {
           "angularaxis": {
            "gridcolor": "white",
            "linecolor": "white",
            "ticks": ""
           },
           "bgcolor": "#E5ECF6",
           "radialaxis": {
            "gridcolor": "white",
            "linecolor": "white",
            "ticks": ""
           }
          },
          "scene": {
           "xaxis": {
            "backgroundcolor": "#E5ECF6",
            "gridcolor": "white",
            "gridwidth": 2,
            "linecolor": "white",
            "showbackground": true,
            "ticks": "",
            "zerolinecolor": "white"
           },
           "yaxis": {
            "backgroundcolor": "#E5ECF6",
            "gridcolor": "white",
            "gridwidth": 2,
            "linecolor": "white",
            "showbackground": true,
            "ticks": "",
            "zerolinecolor": "white"
           },
           "zaxis": {
            "backgroundcolor": "#E5ECF6",
            "gridcolor": "white",
            "gridwidth": 2,
            "linecolor": "white",
            "showbackground": true,
            "ticks": "",
            "zerolinecolor": "white"
           }
          },
          "shapedefaults": {
           "line": {
            "color": "#2a3f5f"
           }
          },
          "ternary": {
           "aaxis": {
            "gridcolor": "white",
            "linecolor": "white",
            "ticks": ""
           },
           "baxis": {
            "gridcolor": "white",
            "linecolor": "white",
            "ticks": ""
           },
           "bgcolor": "#E5ECF6",
           "caxis": {
            "gridcolor": "white",
            "linecolor": "white",
            "ticks": ""
           }
          },
          "title": {
           "x": 0.05
          },
          "xaxis": {
           "automargin": true,
           "gridcolor": "white",
           "linecolor": "white",
           "ticks": "",
           "title": {
            "standoff": 15
           },
           "zerolinecolor": "white",
           "zerolinewidth": 2
          },
          "yaxis": {
           "automargin": true,
           "gridcolor": "white",
           "linecolor": "white",
           "ticks": "",
           "title": {
            "standoff": 15
           },
           "zerolinecolor": "white",
           "zerolinewidth": 2
          }
         }
        }
       }
      },
      "image/png": "[encoded data removed]",
      "text/html": [
       "<div>                            <div id=\"973dfa33-2000-43ea-9b75-d66c0f2f90f8\" class=\"plotly-graph-div\" style=\"height:525px; width:100%;\"></div>            <script type=\"text/javascript\">                require([\"plotly\"], function(Plotly) {                    window.PLOTLYENV=window.PLOTLYENV || {};                                    if (document.getElementById(\"973dfa33-2000-43ea-9b75-d66c0f2f90f8\")) {                    Plotly.newPlot(                        \"973dfa33-2000-43ea-9b75-d66c0f2f90f8\",                        [{\"hovertemplate\":\"feature1=%{x}<br>feature2=%{y}<br>target=%{z}<extra></extra>\",\"legendgroup\":\"\",\"marker\":{\"color\":\"#636efa\",\"symbol\":\"circle\"},\"mode\":\"markers\",\"name\":\"\",\"scene\":\"scene\",\"showlegend\":false,\"x\":[0.2255560906588911,1.706776662648001,0.9959386919573585,-0.7880074136711541,-0.3283638316138342,1.0875944011865015,-0.22356471041929263,-0.8976941380889519,-0.538745333020917,1.8503291827558563,0.018367191891088954,0.591326595348238,-2.032131700089671,2.03764556684387,-1.636121935978785,-0.6871613427363649,-0.4811607436396592,-0.1034070955322806,1.6603857469450884,-1.9507081305266647,-1.6451345361087732,0.8083223429093401,1.3687789368555139,0.8727910309905321,0.14796451309781988,-0.33257221566651574,-0.10426395775730457,1.0888683051139056,0.5412682849074628,0.4859827939877661,-0.16879295098514793,0.23719780516068112,-1.143026011931037,0.8335800588167008,1.1508058818012807,0.4787352530274615,0.8409220483540537,0.2549499316709183,0.8517226465547335,1.070182226144127,1.6828033919936993,0.23619085706297643,0.06104078172957768,1.638505061309836,-1.1190286906695646,0.6984807570916777,0.30552026105892094,1.6715758357919295,-1.5088249489236216,-0.06820740166991825,1.6921410787091804,-0.8683222841380805,-0.5094609283019899,-0.668121951721492,-0.011992396387235912,-0.06434252789958668,2.0460366715696625,-0.8996798726918661,-0.5413395918539258,0.16375346662387463,0.38689861749050786,0.6174569057694034,-0.015329227124468598,-0.16824432290117144,-0.38299287096359713,-0.7285139564320728,-0.855141064836746,0.6334461892076559,-1.5060102420803338,0.9764094613389526,-1.4897332081405177,0.743256753366924,-1.2669602948344563,1.3594289783686786,1.3714940625791063,1.978437044028631,-1.039617513939303,0.034085313256356324,-0.5309560051252871,-0.2322612675884804,-1.9325640400146034,-1.6775052560118313,0.24927122503192006,-0.35748160484894625,0.19491924627641344,0.4186795042068399,1.43425315720215,-0.8630527895784144,-0.024145754570192142,0.04959650620182112,0.8488814351888287,-0.9537668608900949,-0.15149034262104358,1.2874972424257694,-0.5705985146913682,0.7155063828273325,0.5762374923727714,0.6269671000969604,-0.0649168601606317,-0.04192882852824145],\"y\":[-0.0838829663421895,0.5864329282123466,1.0535506239157608,0.21171823029467163,0.3957636758698903,1.1952678979709566,-0.616480385965011,-0.9705929381530103,-0.37761585042159074,-0.20795212543784689,0.546984153850316,-1.34873257853654,-0.2027093082352961,-1.8867703162723575,0.1796284589768894,0.5308514018804218,0.13305146261743928,0.19957214996872158,-0.027441776223489808,0.5354730322069432,0.06571414392989924,-1.41777779406754,-0.8695221287597362,-0.291341327231362,1.4191359043100384,-0.4386289225970281,-1.6862230692165756,-0.5631455642354982,0.038304045197569594,0.23666011988344457,0.06817810908131147,-0.3520895697161724,-0.7897885945026379,0.32665246219781346,1.4079963931363348,-1.2578966081126568,0.05380180892757645,1.436282358201436,-0.6966605002728125,-0.9710369953952851,-0.5391622618653585,-0.6894710855257224,0.778536340064148,-0.7645438866951728,1.2674671233419472,-1.9482960537076297,1.3427356861096131,1.0607759974821376,0.9348188690856547,0.4865794053618265,-0.26077169326777,0.9325253196334066,-2.3882902740130407,1.729818344681823,0.2824612833397911,0.32917919566927,-0.016437092296794128,1.296649831872148,0.259990511393751,2.41085258812096,0.5253636843571667,-0.6158321658104197,-0.2249911804786802,-0.83728081650146,0.22838455582558048,-0.46509911385883956,-0.26087414854208524,0.3076641094332312,-1.4711159653612091,-0.9728830590190167,-1.3900518276136204,-1.902622160606081,0.14524893971647443,-0.7485817139900628,-2.0993589559813097,-1.2146573014152822,0.7545562354112484,0.1261079078950381,0.4500603327603142,-0.510002372072189,-1.2231146203542111,1.2656613300856425,2.500546604820429,-0.9821702649018884,-0.4615205235385818,0.40115606896546707,-0.8031665677056273,0.7047507161306088,1.0297507827799808,2.2324460935340458,0.4704976645802117,0.3889195353269632,-0.7106753266293001,0.9406777151906689,-0.22316935867701515,-0.8996845625835992,-0.17349416220685862,1.0816313037282441,-1.339072671773539,-0.14461066660697727],\"z\":[8.988024301570828,196.43787840800672,138.49081299838733,19.440548419228634,42.76653559320479,81.3544902158282,-19.074648296058022,-49.79538788296409,26.48781928302715,69.63749056442728,27.20973845191625,39.70776121750494,-216.1672175292881,92.3084431580353,-129.11166892940798,18.644616972548896,-35.25538276857331,9.945998007818533,113.07860847537962,-99.03222973121241,-110.55122520183355,-36.07607036668944,75.31885838955964,42.29443283264897,153.52752017918652,-63.72724035480543,-168.47309839618094,18.740212065065624,-0.43499550010412236,30.605591821887216,70.96848342811849,-71.10824571435417,-105.80137296806674,2.6291249698226054,49.43526108056865,-71.94373281631283,82.24888291343431,145.44363206557944,-64.97044077883257,-44.133579735502714,77.58433624836736,-67.55410417305964,-61.9316681946061,136.2442520024722,53.0621323035702,-9.053649539323189,182.4369852617276,150.667092949977,16.543187448462866,1.9699144358895104,97.84658624053901,34.019654599981045,-109.69928634829711,98.47564748664317,-14.823059882784408,20.98759355335241,166.15415652629127,17.27656498670012,-85.06935042936176,107.67794474927838,148.76997253202927,-16.596493897896323,-14.975515482019905,-19.473015596112816,0.038262364610652355,-73.20228849477633,-45.416855322294126,19.69754625729228,-232.0955471666054,32.34499382189562,-151.54329499329356,-98.12201977261307,-93.93522158366221,66.1520207354545,-24.163918381148093,42.80419946736221,-100.84053203998762,38.556206516771724,32.764454933361144,-12.176059203974845,-182.9652510689629,-74.82219905654038,82.29952016124679,-58.66228750266621,19.641853528614725,142.20084204863605,113.6022689932053,-100.52744776077112,124.7153772809013,121.70684195856305,59.56540925339311,4.380588126470215,-53.5513478610971,155.62722799405464,8.158153914363922,24.440211840606743,31.632306793416095,52.29256112733401,-128.03360921798682,9.212387699404871],\"type\":\"scatter3d\"},{\"x\":[-5.0,-3.888888888888889,-2.7777777777777777,-1.6666666666666665,-0.5555555555555554,0.5555555555555554,1.666666666666667,2.7777777777777786,3.8888888888888893,5.0],\"y\":[-5.0,-3.888888888888889,-2.7777777777777777,-1.6666666666666665,-0.5555555555555554,0.5555555555555554,1.666666666666667,2.7777777777777786,3.8888888888888893,5.0],\"z\":[[-634.9398738293137,-557.405275774451,-479.87067771958823,-402.3360796647255,-324.8014816098628,-247.26688355500005,-169.73228550013727,-92.19768744527452,-14.663089390411825,62.8715086644509],[-569.2333649949146,-491.6987669400519,-414.1641688851891,-336.6295708303264,-259.0949727754636,-181.5603747206009,-104.02577666573814,-26.491178610875373,51.043419443987325,128.57801749885007],[-503.5268561605154,-425.9922581056527,-348.45766005078997,-270.9230619959272,-193.38846394106446,-115.85386588620176,-38.31926783133899,39.21533022352378,116.74992827838648,194.28452633324923],[-437.8203473261163,-360.28574927125356,-282.7511512163908,-205.21655316152805,-127.68195510666531,-50.147357051802615,27.38724100306016,104.92183905792294,182.45643711278564,259.99103516764836],[-372.1138384917171,-294.5792404368544,-217.04464238199165,-139.5100443271289,-61.97544627226617,15.55915178259654,93.09374983745931,170.6283478923221,248.1629459471848,325.69754400204755],[-306.40732965731803,-228.87273160245527,-151.33813354759252,-73.8035354927298,3.731062562132955,81.26566061699566,158.80025867185844,236.33485672672123,313.8694547815839,391.4040528364466],[-240.7008208229188,-163.1662227680561,-85.63162471319336,-8.097026658330615,69.43757139653214,146.97216945139485,224.50676750625763,302.0413655611204,379.5759636159831,457.1105616708458],[-174.99431198851966,-97.45971393365693,-19.92511587879418,57.60948217606856,135.1440802309313,212.67867828579404,290.2132763406568,367.7478743955196,445.2824724503823,522.817070505245],[-109.28780315412054,-31.753205099257805,45.78139295560495,123.31599101046768,200.85058906533044,278.38518712019317,355.91978517505595,433.45438322991873,510.9889812847814,588.5235793396441],[-43.58129431972141,33.95330373514132,111.48790179000407,189.02249984486684,266.55709789972957,344.0916959545923,421.6262940094551,499.16089206431786,576.6954901191805,654.2300881740432]],\"type\":\"surface\"}],                        {\"template\":{\"data\":{\"histogram2dcontour\":[{\"type\":\"histogram2dcontour\",\"colorbar\":{\"outlinewidth\":0,\"ticks\":\"\"},\"colorscale\":[[0.0,\"#0d0887\"],[0.1111111111111111,\"#46039f\"],[0.2222222222222222,\"#7201a8\"],[0.3333333333333333,\"#9c179e\"],[0.4444444444444444,\"#bd3786\"],[0.5555555555555556,\"#d8576b\"],[0.6666666666666666,\"#ed7953\"],[0.7777777777777778,\"#fb9f3a\"],[0.8888888888888888,\"#fdca26\"],[1.0,\"#f0f921\"]]}],\"choropleth\":[{\"type\":\"choropleth\",\"colorbar\":{\"outlinewidth\":0,\"ticks\":\"\"}}],\"histogram2d\":[{\"type\":\"histogram2d\",\"colorbar\":{\"outlinewidth\":0,\"ticks\":\"\"},\"colorscale\":[[0.0,\"#0d0887\"],[0.1111111111111111,\"#46039f\"],[0.2222222222222222,\"#7201a8\"],[0.3333333333333333,\"#9c179e\"],[0.4444444444444444,\"#bd3786\"],[0.5555555555555556,\"#d8576b\"],[0.6666666666666666,\"#ed7953\"],[0.7777777777777778,\"#fb9f3a\"],[0.8888888888888888,\"#fdca26\"],[1.0,\"#f0f921\"]]}],\"heatmap\":[{\"type\":\"heatmap\",\"colorbar\":{\"outlinewidth\":0,\"ticks\":\"\"},\"colorscale\":[[0.0,\"#0d0887\"],[0.1111111111111111,\"#46039f\"],[0.2222222222222222,\"#7201a8\"],[0.3333333333333333,\"#9c179e\"],[0.4444444444444444,\"#bd3786\"],[0.5555555555555556,\"#d8576b\"],[0.6666666666666666,\"#ed7953\"],[0.7777777777777778,\"#fb9f3a\"],[0.8888888888888888,\"#fdca26\"],[1.0,\"#f0f921\"]]}],\"heatmapgl\":[{\"type\":\"heatmapgl\",\"colorbar\":{\"outlinewidth\":0,\"ticks\":\"\"},\"colorscale\":[[0.0,\"#0d0887\"],[0.1111111111111111,\"#46039f\"],[0.2222222222222222,\"#7201a8\"],[0.3333333333333333,\"#9c179e\"],[0.4444444444444444,\"#bd3786\"],[0.5555555555555556,\"#d8576b\"],[0.6666666666666666,\"#ed7953\"],[0.7777777777777778,\"#fb9f3a\"],[0.8888888888888888,\"#fdca26\"],[1.0,\"#f0f921\"]]}],\"contourcarpet\":[{\"type\":\"contourcarpet\",\"colorbar\":{\"outlinewidth\":0,\"ticks\":\"\"}}],\"contour\":[{\"type\":\"contour\",\"colorbar\":{\"outlinewidth\":0,\"ticks\":\"\"},\"colorscale\":[[0.0,\"#0d0887\"],[0.1111111111111111,\"#46039f\"],[0.2222222222222222,\"#7201a8\"],[0.3333333333333333,\"#9c179e\"],[0.4444444444444444,\"#bd3786\"],[0.5555555555555556,\"#d8576b\"],[0.6666666666666666,\"#ed7953\"],[0.7777777777777778,\"#fb9f3a\"],[0.8888888888888888,\"#fdca26\"],[1.0,\"#f0f921\"]]}],\"surface\":[{\"type\":\"surface\",\"colorbar\":{\"outlinewidth\":0,\"ticks\":\"\"},\"colorscale\":[[0.0,\"#0d0887\"],[0.1111111111111111,\"#46039f\"],[0.2222222222222222,\"#7201a8\"],[0.3333333333333333,\"#9c179e\"],[0.4444444444444444,\"#bd3786\"],[0.5555555555555556,\"#d8576b\"],[0.6666666666666666,\"#ed7953\"],[0.7777777777777778,\"#fb9f3a\"],[0.8888888888888888,\"#fdca26\"],[1.0,\"#f0f921\"]]}],\"mesh3d\":[{\"type\":\"mesh3d\",\"colorbar\":{\"outlinewidth\":0,\"ticks\":\"\"}}],\"scatter\":[{\"fillpattern\":{\"fillmode\":\"overlay\",\"size\":10,\"solidity\":0.2},\"type\":\"scatter\"}],\"parcoords\":[{\"type\":\"parcoords\",\"line\":{\"colorbar\":{\"outlinewidth\":0,\"ticks\":\"\"}}}],\"scatterpolargl\":[{\"type\":\"scatterpolargl\",\"marker\":{\"colorbar\":{\"outlinewidth\":0,\"ticks\":\"\"}}}],\"bar\":[{\"error_x\":{\"color\":\"#2a3f5f\"},\"error_y\":{\"color\":\"#2a3f5f\"},\"marker\":{\"line\":{\"color\":\"#E5ECF6\",\"width\":0.5},\"pattern\":{\"fillmode\":\"overlay\",\"size\":10,\"solidity\":0.2}},\"type\":\"bar\"}],\"scattergeo\":[{\"type\":\"scattergeo\",\"marker\":{\"colorbar\":{\"outlinewidth\":0,\"ticks\":\"\"}}}],\"scatterpolar\":[{\"type\":\"scatterpolar\",\"marker\":{\"colorbar\":{\"outlinewidth\":0,\"ticks\":\"\"}}}],\"histogram\":[{\"marker\":{\"pattern\":{\"fillmode\":\"overlay\",\"size\":10,\"solidity\":0.2}},\"type\":\"histogram\"}],\"scattergl\":[{\"type\":\"scattergl\",\"marker\":{\"colorbar\":{\"outlinewidth\":0,\"ticks\":\"\"}}}],\"scatter3d\":[{\"type\":\"scatter3d\",\"line\":{\"colorbar\":{\"outlinewidth\":0,\"ticks\":\"\"}},\"marker\":{\"colorbar\":{\"outlinewidth\":0,\"ticks\":\"\"}}}],\"scattermapbox\":[{\"type\":\"scattermapbox\",\"marker\":{\"colorbar\":{\"outlinewidth\":0,\"ticks\":\"\"}}}],\"scatterternary\":[{\"type\":\"scatterternary\",\"marker\":{\"colorbar\":{\"outlinewidth\":0,\"ticks\":\"\"}}}],\"scattercarpet\":[{\"type\":\"scattercarpet\",\"marker\":{\"colorbar\":{\"outlinewidth\":0,\"ticks\":\"\"}}}],\"carpet\":[{\"aaxis\":{\"endlinecolor\":\"#2a3f5f\",\"gridcolor\":\"white\",\"linecolor\":\"white\",\"minorgridcolor\":\"white\",\"startlinecolor\":\"#2a3f5f\"},\"baxis\":{\"endlinecolor\":\"#2a3f5f\",\"gridcolor\":\"white\",\"linecolor\":\"white\",\"minorgridcolor\":\"white\",\"startlinecolor\":\"#2a3f5f\"},\"type\":\"carpet\"}],\"table\":[{\"cells\":{\"fill\":{\"color\":\"#EBF0F8\"},\"line\":{\"color\":\"white\"}},\"header\":{\"fill\":{\"color\":\"#C8D4E3\"},\"line\":{\"color\":\"white\"}},\"type\":\"table\"}],\"barpolar\":[{\"marker\":{\"line\":{\"color\":\"#E5ECF6\",\"width\":0.5},\"pattern\":{\"fillmode\":\"overlay\",\"size\":10,\"solidity\":0.2}},\"type\":\"barpolar\"}],\"pie\":[{\"automargin\":true,\"type\":\"pie\"}]},\"layout\":{\"autotypenumbers\":\"strict\",\"colorway\":[\"#636efa\",\"#EF553B\",\"#00cc96\",\"#ab63fa\",\"#FFA15A\",\"#19d3f3\",\"#FF6692\",\"#B6E880\",\"#FF97FF\",\"#FECB52\"],\"font\":{\"color\":\"#2a3f5f\"},\"hovermode\":\"closest\",\"hoverlabel\":{\"align\":\"left\"},\"paper_bgcolor\":\"white\",\"plot_bgcolor\":\"#E5ECF6\",\"polar\":{\"bgcolor\":\"#E5ECF6\",\"angularaxis\":{\"gridcolor\":\"white\",\"linecolor\":\"white\",\"ticks\":\"\"},\"radialaxis\":{\"gridcolor\":\"white\",\"linecolor\":\"white\",\"ticks\":\"\"}},\"ternary\":{\"bgcolor\":\"#E5ECF6\",\"aaxis\":{\"gridcolor\":\"white\",\"linecolor\":\"white\",\"ticks\":\"\"},\"baxis\":{\"gridcolor\":\"white\",\"linecolor\":\"white\",\"ticks\":\"\"},\"caxis\":{\"gridcolor\":\"white\",\"linecolor\":\"white\",\"ticks\":\"\"}},\"coloraxis\":{\"colorbar\":{\"outlinewidth\":0,\"ticks\":\"\"}},\"colorscale\":{\"sequential\":[[0.0,\"#0d0887\"],[0.1111111111111111,\"#46039f\"],[0.2222222222222222,\"#7201a8\"],[0.3333333333333333,\"#9c179e\"],[0.4444444444444444,\"#bd3786\"],[0.5555555555555556,\"#d8576b\"],[0.6666666666666666,\"#ed7953\"],[0.7777777777777778,\"#fb9f3a\"],[0.8888888888888888,\"#fdca26\"],[1.0,\"#f0f921\"]],\"sequentialminus\":[[0.0,\"#0d0887\"],[0.1111111111111111,\"#46039f\"],[0.2222222222222222,\"#7201a8\"],[0.3333333333333333,\"#9c179e\"],[0.4444444444444444,\"#bd3786\"],[0.5555555555555556,\"#d8576b\"],[0.6666666666666666,\"#ed7953\"],[0.7777777777777778,\"#fb9f3a\"],[0.8888888888888888,\"#fdca26\"],[1.0,\"#f0f921\"]],\"diverging\":[[0,\"#8e0152\"],[0.1,\"#c51b7d\"],[0.2,\"#de77ae\"],[0.3,\"#f1b6da\"],[0.4,\"#fde0ef\"],[0.5,\"#f7f7f7\"],[0.6,\"#e6f5d0\"],[0.7,\"#b8e186\"],[0.8,\"#7fbc41\"],[0.9,\"#4d9221\"],[1,\"#276419\"]]},\"xaxis\":{\"gridcolor\":\"white\",\"linecolor\":\"white\",\"ticks\":\"\",\"title\":{\"standoff\":15},\"zerolinecolor\":\"white\",\"automargin\":true,\"zerolinewidth\":2},\"yaxis\":{\"gridcolor\":\"white\",\"linecolor\":\"white\",\"ticks\":\"\",\"title\":{\"standoff\":15},\"zerolinecolor\":\"white\",\"automargin\":true,\"zerolinewidth\":2},\"scene\":{\"xaxis\":{\"backgroundcolor\":\"#E5ECF6\",\"gridcolor\":\"white\",\"linecolor\":\"white\",\"showbackground\":true,\"ticks\":\"\",\"zerolinecolor\":\"white\",\"gridwidth\":2},\"yaxis\":{\"backgroundcolor\":\"#E5ECF6\",\"gridcolor\":\"white\",\"linecolor\":\"white\",\"showbackground\":true,\"ticks\":\"\",\"zerolinecolor\":\"white\",\"gridwidth\":2},\"zaxis\":{\"backgroundcolor\":\"#E5ECF6\",\"gridcolor\":\"white\",\"linecolor\":\"white\",\"showbackground\":true,\"ticks\":\"\",\"zerolinecolor\":\"white\",\"gridwidth\":2}},\"shapedefaults\":{\"line\":{\"color\":\"#2a3f5f\"}},\"annotationdefaults\":{\"arrowcolor\":\"#2a3f5f\",\"arrowhead\":0,\"arrowwidth\":1},\"geo\":{\"bgcolor\":\"white\",\"landcolor\":\"#E5ECF6\",\"subunitcolor\":\"white\",\"showland\":true,\"showlakes\":true,\"lakecolor\":\"white\"},\"title\":{\"x\":0.05},\"mapbox\":{\"style\":\"light\"}}},\"scene\":{\"domain\":{\"x\":[0.0,1.0],\"y\":[0.0,1.0]},\"xaxis\":{\"title\":{\"text\":\"feature1\"}},\"yaxis\":{\"title\":{\"text\":\"feature2\"}},\"zaxis\":{\"title\":{\"text\":\"target\"}}},\"legend\":{\"tracegroupgap\":0},\"margin\":{\"t\":60}},                        {\"responsive\": true}                    ).then(function(){\n",
       "                            \n",
       "var gd = document.getElementById('973dfa33-2000-43ea-9b75-d66c0f2f90f8');\n",
       "var x = new MutationObserver(function (mutations, observer) {{\n",
       "        var display = window.getComputedStyle(gd).display;\n",
       "        if (!display || display === 'none') {{\n",
       "            console.log([gd, 'removed!']);\n",
       "            Plotly.purge(gd);\n",
       "            observer.disconnect();\n",
       "        }}\n",
       "}});\n",
       "\n",
       "// Listen for the removal of the full notebook cells\n",
       "var notebookContainer = gd.closest('#notebook-container');\n",
       "if (notebookContainer) {{\n",
       "    x.observe(notebookContainer, {childList: true});\n",
       "}}\n",
       "\n",
       "// Listen for the clearing of the current output cell\n",
       "var outputEl = gd.closest('.output');\n",
       "if (outputEl) {{\n",
       "    x.observe(outputEl, {childList: true});\n",
       "}}\n",
       "\n",
       "                        })                };                });            </script>        </div>"
      ]
     },
     "metadata": {},
     "output_type": "display_data"
    }
   ],
   "source": [
    "fig = px.scatter_3d(df, x='feature1', y='feature2', z='target')\n",
    "\n",
    "fig.add_trace(go.Surface(x = x, y = y, z =z ))\n",
    "\n",
    "fig.show()"
   ]
  },
  {
   "cell_type": "code",
   "execution_count": 29,
   "metadata": {
    "colab": {
     "base_uri": "https://localhost:8080/"
    },
    "id": "YVdgVIn_5ElG",
    "outputId": "4981763b-d36e-4bf4-b5e1-b0d34c0ae2e7"
   },
   "outputs": [
    {
     "data": {
      "text/plain": [
       "array([69.78113825, 59.13585795])"
      ]
     },
     "execution_count": 29,
     "metadata": {},
     "output_type": "execute_result"
    }
   ],
   "source": [
    "lr.coef_ "
   ]
  },
  {
   "cell_type": "code",
   "execution_count": 30,
   "metadata": {
    "colab": {
     "base_uri": "https://localhost:8080/"
    },
    "id": "kIVDDKIynz1b",
    "outputId": "aed35369-2dfe-4dbd-d606-18550add93f5"
   },
   "outputs": [
    {
     "data": {
      "text/plain": [
       "9.645107172364748"
      ]
     },
     "execution_count": 30,
     "metadata": {},
     "output_type": "execute_result"
    }
   ],
   "source": [
    "lr.intercept_"
   ]
  },
  {
   "cell_type": "code",
   "execution_count": null,
   "metadata": {
    "id": "m7ZOTCgen3l3"
   },
   "outputs": [],
   "source": []
  },
  {
   "cell_type": "code",
   "execution_count": null,
   "metadata": {},
   "outputs": [],
   "source": []
  }
 ],
 "metadata": {
  "colab": {
   "name": "multiple-linear-regression.ipynb",
   "provenance": []
  },
  "kernelspec": {
   "display_name": "Python 3 (ipykernel)",
   "language": "python",
   "name": "python3"
  },
  "language_info": {
   "codemirror_mode": {
    "name": "ipython",
    "version": 3
   },
   "file_extension": ".py",
   "mimetype": "text/x-python",
   "name": "python",
   "nbconvert_exporter": "python",
   "pygments_lexer": "ipython3",
   "version": "3.11.5"
  }
 },
 "nbformat": 4,
 "nbformat_minor": 4
}
