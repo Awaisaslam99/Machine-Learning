{
 "cells": [
  {
   "cell_type": "markdown",
   "id": "e309145a-5c56-4e9b-9737-0c0438e265ee",
   "metadata": {},
   "source": [
    "We always need to convert categorical data into numerical data whenever we working in a ML project , it's bcozz some ML algorithems can't accept strings they need numbers.."
   ]
  },
  {
   "cell_type": "markdown",
   "id": "5d156eea-7752-42b8-bbde-4f7c9135b4ed",
   "metadata": {},
   "source": [
    "# categorical encoding:\n",
    "The process of encoding categorical data into numerical data is called “categorical encoding.\n"
   ]
  },
  {
   "cell_type": "code",
   "execution_count": null,
   "id": "a788cef1-f389-4a11-b422-e280c703c1b6",
   "metadata": {},
   "outputs": [],
   "source": [
    "# 2 types of data in categorical data.."
   ]
  },
  {
   "cell_type": "markdown",
   "id": "5602e6ff-4681-49a2-a198-6c4e46bed925",
   "metadata": {},
   "source": [
    "1. Ordinal Data: The data who follow orders in categories is called ordinal data...\n",
    "2. Nominal Data: The data who does'nt follow orders in categories is called nominal data..."
   ]
  },
  {
   "cell_type": "markdown",
   "id": "b0e4fe5b-a120-41d8-9ae2-a3c695611e73",
   "metadata": {},
   "source": [
    "# 1. Ordinal Encoding:\n",
    "To handle ordinal Data we use ordinalEncoding..\n",
    "It works on categorical data.."
   ]
  },
  {
   "cell_type": "code",
   "execution_count": 1,
   "id": "cc961c89-33e5-4b53-8cb0-78234a073b83",
   "metadata": {},
   "outputs": [],
   "source": [
    "import numpy as np\n",
    "import pandas as pd"
   ]
  },
  {
   "cell_type": "code",
   "execution_count": 2,
   "id": "c94134d6-395a-4ff0-93e8-1ccffaa660f2",
   "metadata": {},
   "outputs": [],
   "source": [
    "df = pd.read_csv('customer.csv')"
   ]
  },
  {
   "cell_type": "code",
   "execution_count": 3,
   "id": "661d8a0b-171b-490e-ae31-aff12f198c8e",
   "metadata": {},
   "outputs": [
    {
     "data": {
      "text/html": [
       "<div>\n",
       "<style scoped>\n",
       "    .dataframe tbody tr th:only-of-type {\n",
       "        vertical-align: middle;\n",
       "    }\n",
       "\n",
       "    .dataframe tbody tr th {\n",
       "        vertical-align: top;\n",
       "    }\n",
       "\n",
       "    .dataframe thead th {\n",
       "        text-align: right;\n",
       "    }\n",
       "</style>\n",
       "<table border=\"1\" class=\"dataframe\">\n",
       "  <thead>\n",
       "    <tr style=\"text-align: right;\">\n",
       "      <th></th>\n",
       "      <th>age</th>\n",
       "      <th>gender</th>\n",
       "      <th>review</th>\n",
       "      <th>education</th>\n",
       "      <th>purchased</th>\n",
       "    </tr>\n",
       "  </thead>\n",
       "  <tbody>\n",
       "    <tr>\n",
       "      <th>47</th>\n",
       "      <td>38</td>\n",
       "      <td>Female</td>\n",
       "      <td>Good</td>\n",
       "      <td>PG</td>\n",
       "      <td>Yes</td>\n",
       "    </tr>\n",
       "    <tr>\n",
       "      <th>40</th>\n",
       "      <td>39</td>\n",
       "      <td>Male</td>\n",
       "      <td>Good</td>\n",
       "      <td>School</td>\n",
       "      <td>No</td>\n",
       "    </tr>\n",
       "    <tr>\n",
       "      <th>14</th>\n",
       "      <td>15</td>\n",
       "      <td>Male</td>\n",
       "      <td>Poor</td>\n",
       "      <td>PG</td>\n",
       "      <td>Yes</td>\n",
       "    </tr>\n",
       "    <tr>\n",
       "      <th>4</th>\n",
       "      <td>16</td>\n",
       "      <td>Female</td>\n",
       "      <td>Average</td>\n",
       "      <td>UG</td>\n",
       "      <td>No</td>\n",
       "    </tr>\n",
       "    <tr>\n",
       "      <th>25</th>\n",
       "      <td>57</td>\n",
       "      <td>Female</td>\n",
       "      <td>Good</td>\n",
       "      <td>School</td>\n",
       "      <td>No</td>\n",
       "    </tr>\n",
       "  </tbody>\n",
       "</table>\n",
       "</div>"
      ],
      "text/plain": [
       "    age  gender   review education purchased\n",
       "47   38  Female     Good        PG       Yes\n",
       "40   39    Male     Good    School        No\n",
       "14   15    Male     Poor        PG       Yes\n",
       "4    16  Female  Average        UG        No\n",
       "25   57  Female     Good    School        No"
      ]
     },
     "execution_count": 3,
     "metadata": {},
     "output_type": "execute_result"
    }
   ],
   "source": [
    "df.sample(5)"
   ]
  },
  {
   "cell_type": "code",
   "execution_count": 4,
   "id": "9a72121a-0f3f-4e77-b577-da70979d817a",
   "metadata": {},
   "outputs": [],
   "source": [
    "df = df.iloc[:,2:]"
   ]
  },
  {
   "cell_type": "code",
   "execution_count": 5,
   "id": "ba557f5c-f7ce-4327-b0d7-91ff45b966c1",
   "metadata": {},
   "outputs": [
    {
     "data": {
      "text/html": [
       "<div>\n",
       "<style scoped>\n",
       "    .dataframe tbody tr th:only-of-type {\n",
       "        vertical-align: middle;\n",
       "    }\n",
       "\n",
       "    .dataframe tbody tr th {\n",
       "        vertical-align: top;\n",
       "    }\n",
       "\n",
       "    .dataframe thead th {\n",
       "        text-align: right;\n",
       "    }\n",
       "</style>\n",
       "<table border=\"1\" class=\"dataframe\">\n",
       "  <thead>\n",
       "    <tr style=\"text-align: right;\">\n",
       "      <th></th>\n",
       "      <th>review</th>\n",
       "      <th>education</th>\n",
       "      <th>purchased</th>\n",
       "    </tr>\n",
       "  </thead>\n",
       "  <tbody>\n",
       "    <tr>\n",
       "      <th>0</th>\n",
       "      <td>Average</td>\n",
       "      <td>School</td>\n",
       "      <td>No</td>\n",
       "    </tr>\n",
       "    <tr>\n",
       "      <th>1</th>\n",
       "      <td>Poor</td>\n",
       "      <td>UG</td>\n",
       "      <td>No</td>\n",
       "    </tr>\n",
       "    <tr>\n",
       "      <th>2</th>\n",
       "      <td>Good</td>\n",
       "      <td>PG</td>\n",
       "      <td>No</td>\n",
       "    </tr>\n",
       "    <tr>\n",
       "      <th>3</th>\n",
       "      <td>Good</td>\n",
       "      <td>PG</td>\n",
       "      <td>No</td>\n",
       "    </tr>\n",
       "    <tr>\n",
       "      <th>4</th>\n",
       "      <td>Average</td>\n",
       "      <td>UG</td>\n",
       "      <td>No</td>\n",
       "    </tr>\n",
       "    <tr>\n",
       "      <th>5</th>\n",
       "      <td>Average</td>\n",
       "      <td>School</td>\n",
       "      <td>Yes</td>\n",
       "    </tr>\n",
       "    <tr>\n",
       "      <th>6</th>\n",
       "      <td>Good</td>\n",
       "      <td>School</td>\n",
       "      <td>No</td>\n",
       "    </tr>\n",
       "    <tr>\n",
       "      <th>7</th>\n",
       "      <td>Poor</td>\n",
       "      <td>School</td>\n",
       "      <td>Yes</td>\n",
       "    </tr>\n",
       "    <tr>\n",
       "      <th>8</th>\n",
       "      <td>Average</td>\n",
       "      <td>UG</td>\n",
       "      <td>No</td>\n",
       "    </tr>\n",
       "    <tr>\n",
       "      <th>9</th>\n",
       "      <td>Good</td>\n",
       "      <td>UG</td>\n",
       "      <td>Yes</td>\n",
       "    </tr>\n",
       "    <tr>\n",
       "      <th>10</th>\n",
       "      <td>Good</td>\n",
       "      <td>UG</td>\n",
       "      <td>Yes</td>\n",
       "    </tr>\n",
       "    <tr>\n",
       "      <th>11</th>\n",
       "      <td>Good</td>\n",
       "      <td>UG</td>\n",
       "      <td>Yes</td>\n",
       "    </tr>\n",
       "    <tr>\n",
       "      <th>12</th>\n",
       "      <td>Poor</td>\n",
       "      <td>School</td>\n",
       "      <td>No</td>\n",
       "    </tr>\n",
       "    <tr>\n",
       "      <th>13</th>\n",
       "      <td>Average</td>\n",
       "      <td>School</td>\n",
       "      <td>No</td>\n",
       "    </tr>\n",
       "    <tr>\n",
       "      <th>14</th>\n",
       "      <td>Poor</td>\n",
       "      <td>PG</td>\n",
       "      <td>Yes</td>\n",
       "    </tr>\n",
       "  </tbody>\n",
       "</table>\n",
       "</div>"
      ],
      "text/plain": [
       "     review education purchased\n",
       "0   Average    School        No\n",
       "1      Poor        UG        No\n",
       "2      Good        PG        No\n",
       "3      Good        PG        No\n",
       "4   Average        UG        No\n",
       "5   Average    School       Yes\n",
       "6      Good    School        No\n",
       "7      Poor    School       Yes\n",
       "8   Average        UG        No\n",
       "9      Good        UG       Yes\n",
       "10     Good        UG       Yes\n",
       "11     Good        UG       Yes\n",
       "12     Poor    School        No\n",
       "13  Average    School        No\n",
       "14     Poor        PG       Yes"
      ]
     },
     "execution_count": 5,
     "metadata": {},
     "output_type": "execute_result"
    }
   ],
   "source": [
    "df.head(15)"
   ]
  },
  {
   "cell_type": "code",
   "execution_count": 6,
   "id": "96bf9b32-2b4e-4a4c-b6de-187fad864e3e",
   "metadata": {},
   "outputs": [],
   "source": [
    "from sklearn.model_selection import train_test_split\n",
    "X_train,X_test,Y_train,Y_test= train_test_split(df.iloc[:,0:2],df.iloc[:,-1],test_size=0.2)"
   ]
  },
  {
   "cell_type": "code",
   "execution_count": 7,
   "id": "dc535246-02fa-4b04-9790-669815826881",
   "metadata": {},
   "outputs": [
    {
     "data": {
      "text/plain": [
       "43     No\n",
       "21     No\n",
       "46     No\n",
       "48    Yes\n",
       "37    Yes\n",
       "32    Yes\n",
       "10    Yes\n",
       "29    Yes\n",
       "40     No\n",
       "24    Yes\n",
       "28     No\n",
       "26     No\n",
       "44     No\n",
       "18     No\n",
       "0      No\n",
       "39     No\n",
       "2      No\n",
       "38     No\n",
       "47    Yes\n",
       "25     No\n",
       "6      No\n",
       "27     No\n",
       "23     No\n",
       "13     No\n",
       "4      No\n",
       "41    Yes\n",
       "20    Yes\n",
       "8      No\n",
       "17    Yes\n",
       "35    Yes\n",
       "22    Yes\n",
       "31    Yes\n",
       "1      No\n",
       "11    Yes\n",
       "42    Yes\n",
       "36    Yes\n",
       "33    Yes\n",
       "3      No\n",
       "45    Yes\n",
       "49     No\n",
       "Name: purchased, dtype: object"
      ]
     },
     "execution_count": 7,
     "metadata": {},
     "output_type": "execute_result"
    }
   ],
   "source": [
    "Y_train"
   ]
  },
  {
   "cell_type": "code",
   "execution_count": 8,
   "id": "f646eb76-68db-4a39-a11d-2af2b123ff48",
   "metadata": {},
   "outputs": [],
   "source": [
    "from sklearn.preprocessing import OrdinalEncoder"
   ]
  },
  {
   "cell_type": "code",
   "execution_count": 9,
   "id": "58cdcde4-0d97-4a10-a5c2-40c71fc4a6da",
   "metadata": {},
   "outputs": [],
   "source": [
    "oe= OrdinalEncoder(categories=[['Poor','Average','Good'],['School','UG','PG']])"
   ]
  },
  {
   "cell_type": "code",
   "execution_count": 10,
   "id": "87f87879-3e07-4047-899c-694228d87d73",
   "metadata": {},
   "outputs": [
    {
     "data": {
      "text/html": [
       "<style>#sk-container-id-1 {color: black;}#sk-container-id-1 pre{padding: 0;}#sk-container-id-1 div.sk-toggleable {background-color: white;}#sk-container-id-1 label.sk-toggleable__label {cursor: pointer;display: block;width: 100%;margin-bottom: 0;padding: 0.3em;box-sizing: border-box;text-align: center;}#sk-container-id-1 label.sk-toggleable__label-arrow:before {content: \"▸\";float: left;margin-right: 0.25em;color: #696969;}#sk-container-id-1 label.sk-toggleable__label-arrow:hover:before {color: black;}#sk-container-id-1 div.sk-estimator:hover label.sk-toggleable__label-arrow:before {color: black;}#sk-container-id-1 div.sk-toggleable__content {max-height: 0;max-width: 0;overflow: hidden;text-align: left;background-color: #f0f8ff;}#sk-container-id-1 div.sk-toggleable__content pre {margin: 0.2em;color: black;border-radius: 0.25em;background-color: #f0f8ff;}#sk-container-id-1 input.sk-toggleable__control:checked~div.sk-toggleable__content {max-height: 200px;max-width: 100%;overflow: auto;}#sk-container-id-1 input.sk-toggleable__control:checked~label.sk-toggleable__label-arrow:before {content: \"▾\";}#sk-container-id-1 div.sk-estimator input.sk-toggleable__control:checked~label.sk-toggleable__label {background-color: #d4ebff;}#sk-container-id-1 div.sk-label input.sk-toggleable__control:checked~label.sk-toggleable__label {background-color: #d4ebff;}#sk-container-id-1 input.sk-hidden--visually {border: 0;clip: rect(1px 1px 1px 1px);clip: rect(1px, 1px, 1px, 1px);height: 1px;margin: -1px;overflow: hidden;padding: 0;position: absolute;width: 1px;}#sk-container-id-1 div.sk-estimator {font-family: monospace;background-color: #f0f8ff;border: 1px dotted black;border-radius: 0.25em;box-sizing: border-box;margin-bottom: 0.5em;}#sk-container-id-1 div.sk-estimator:hover {background-color: #d4ebff;}#sk-container-id-1 div.sk-parallel-item::after {content: \"\";width: 100%;border-bottom: 1px solid gray;flex-grow: 1;}#sk-container-id-1 div.sk-label:hover label.sk-toggleable__label {background-color: #d4ebff;}#sk-container-id-1 div.sk-serial::before {content: \"\";position: absolute;border-left: 1px solid gray;box-sizing: border-box;top: 0;bottom: 0;left: 50%;z-index: 0;}#sk-container-id-1 div.sk-serial {display: flex;flex-direction: column;align-items: center;background-color: white;padding-right: 0.2em;padding-left: 0.2em;position: relative;}#sk-container-id-1 div.sk-item {position: relative;z-index: 1;}#sk-container-id-1 div.sk-parallel {display: flex;align-items: stretch;justify-content: center;background-color: white;position: relative;}#sk-container-id-1 div.sk-item::before, #sk-container-id-1 div.sk-parallel-item::before {content: \"\";position: absolute;border-left: 1px solid gray;box-sizing: border-box;top: 0;bottom: 0;left: 50%;z-index: -1;}#sk-container-id-1 div.sk-parallel-item {display: flex;flex-direction: column;z-index: 1;position: relative;background-color: white;}#sk-container-id-1 div.sk-parallel-item:first-child::after {align-self: flex-end;width: 50%;}#sk-container-id-1 div.sk-parallel-item:last-child::after {align-self: flex-start;width: 50%;}#sk-container-id-1 div.sk-parallel-item:only-child::after {width: 0;}#sk-container-id-1 div.sk-dashed-wrapped {border: 1px dashed gray;margin: 0 0.4em 0.5em 0.4em;box-sizing: border-box;padding-bottom: 0.4em;background-color: white;}#sk-container-id-1 div.sk-label label {font-family: monospace;font-weight: bold;display: inline-block;line-height: 1.2em;}#sk-container-id-1 div.sk-label-container {text-align: center;}#sk-container-id-1 div.sk-container {/* jupyter's `normalize.less` sets `[hidden] { display: none; }` but bootstrap.min.css set `[hidden] { display: none !important; }` so we also need the `!important` here to be able to override the default hidden behavior on the sphinx rendered scikit-learn.org. See: https://github.com/scikit-learn/scikit-learn/issues/21755 */display: inline-block !important;position: relative;}#sk-container-id-1 div.sk-text-repr-fallback {display: none;}</style><div id=\"sk-container-id-1\" class=\"sk-top-container\"><div class=\"sk-text-repr-fallback\"><pre>OrdinalEncoder(categories=[[&#x27;Poor&#x27;, &#x27;Average&#x27;, &#x27;Good&#x27;], [&#x27;School&#x27;, &#x27;UG&#x27;, &#x27;PG&#x27;]])</pre><b>In a Jupyter environment, please rerun this cell to show the HTML representation or trust the notebook. <br />On GitHub, the HTML representation is unable to render, please try loading this page with nbviewer.org.</b></div><div class=\"sk-container\" hidden><div class=\"sk-item\"><div class=\"sk-estimator sk-toggleable\"><input class=\"sk-toggleable__control sk-hidden--visually\" id=\"sk-estimator-id-1\" type=\"checkbox\" checked><label for=\"sk-estimator-id-1\" class=\"sk-toggleable__label sk-toggleable__label-arrow\">OrdinalEncoder</label><div class=\"sk-toggleable__content\"><pre>OrdinalEncoder(categories=[[&#x27;Poor&#x27;, &#x27;Average&#x27;, &#x27;Good&#x27;], [&#x27;School&#x27;, &#x27;UG&#x27;, &#x27;PG&#x27;]])</pre></div></div></div></div></div>"
      ],
      "text/plain": [
       "OrdinalEncoder(categories=[['Poor', 'Average', 'Good'], ['School', 'UG', 'PG']])"
      ]
     },
     "execution_count": 10,
     "metadata": {},
     "output_type": "execute_result"
    }
   ],
   "source": [
    "oe.fit(X_train)"
   ]
  },
  {
   "cell_type": "code",
   "execution_count": 11,
   "id": "c665a39e-fd7d-43c4-a327-476e7b0e4df9",
   "metadata": {},
   "outputs": [],
   "source": [
    "X_train= oe.transform(X_train)\n",
    "X_test= oe.transform(X_test)"
   ]
  },
  {
   "cell_type": "code",
   "execution_count": 12,
   "id": "0a1dcf61-1e9a-48aa-a950-828de2407064",
   "metadata": {},
   "outputs": [
    {
     "data": {
      "text/plain": [
       "array([[0., 2.],\n",
       "       [1., 2.],\n",
       "       [0., 2.],\n",
       "       [2., 1.],\n",
       "       [1., 2.],\n",
       "       [1., 1.],\n",
       "       [2., 1.],\n",
       "       [1., 1.],\n",
       "       [2., 0.],\n",
       "       [1., 2.],\n",
       "       [0., 0.],\n",
       "       [0., 2.],\n",
       "       [1., 1.],\n",
       "       [2., 0.],\n",
       "       [1., 0.],\n",
       "       [0., 2.],\n",
       "       [2., 2.],\n",
       "       [2., 0.],\n",
       "       [2., 2.],\n",
       "       [2., 0.],\n",
       "       [2., 0.],\n",
       "       [0., 2.],\n",
       "       [2., 0.],\n",
       "       [1., 0.],\n",
       "       [1., 1.],\n",
       "       [2., 2.],\n",
       "       [1., 0.],\n",
       "       [1., 1.],\n",
       "       [0., 1.],\n",
       "       [0., 0.],\n",
       "       [0., 2.],\n",
       "       [0., 0.],\n",
       "       [0., 1.],\n",
       "       [2., 1.],\n",
       "       [2., 2.],\n",
       "       [2., 1.],\n",
       "       [2., 2.],\n",
       "       [2., 2.],\n",
       "       [0., 2.],\n",
       "       [2., 1.]])"
      ]
     },
     "execution_count": 12,
     "metadata": {},
     "output_type": "execute_result"
    }
   ],
   "source": [
    "X_train"
   ]
  },
  {
   "cell_type": "code",
   "execution_count": 13,
   "id": "ff009474-04dd-4393-bfd2-6b05e555850d",
   "metadata": {},
   "outputs": [
    {
     "data": {
      "text/plain": [
       "[array(['Poor', 'Average', 'Good'], dtype=object),\n",
       " array(['School', 'UG', 'PG'], dtype=object)]"
      ]
     },
     "execution_count": 13,
     "metadata": {},
     "output_type": "execute_result"
    }
   ],
   "source": [
    "oe.categories_"
   ]
  },
  {
   "cell_type": "code",
   "execution_count": null,
   "id": "da385b9b-be1d-4912-a69a-a8e29f3fa245",
   "metadata": {},
   "outputs": [],
   "source": []
  },
  {
   "cell_type": "code",
   "execution_count": null,
   "id": "339bd2f5-2f36-41b3-9edf-036b94b6ce44",
   "metadata": {},
   "outputs": [],
   "source": []
  },
  {
   "cell_type": "markdown",
   "id": "3b65909b-2fe0-4971-bf4f-98e0fba910a4",
   "metadata": {},
   "source": [
    "# LabelEncoding.."
   ]
  },
  {
   "cell_type": "code",
   "execution_count": 14,
   "id": "6d0e3f7e-4b9c-4292-b10c-4d9d65758da4",
   "metadata": {},
   "outputs": [],
   "source": [
    "# LabelEncoding..\n",
    "# use only on output columns..\n",
    "\n",
    "from sklearn.preprocessing import LabelEncoder"
   ]
  },
  {
   "cell_type": "code",
   "execution_count": 15,
   "id": "85a1fea1-99e3-488a-ae6b-179570e504d7",
   "metadata": {},
   "outputs": [],
   "source": [
    "le = LabelEncoder()"
   ]
  },
  {
   "cell_type": "code",
   "execution_count": 16,
   "id": "3b0475ae-c030-4668-883f-336575005a18",
   "metadata": {},
   "outputs": [
    {
     "data": {
      "text/html": [
       "<style>#sk-container-id-2 {color: black;}#sk-container-id-2 pre{padding: 0;}#sk-container-id-2 div.sk-toggleable {background-color: white;}#sk-container-id-2 label.sk-toggleable__label {cursor: pointer;display: block;width: 100%;margin-bottom: 0;padding: 0.3em;box-sizing: border-box;text-align: center;}#sk-container-id-2 label.sk-toggleable__label-arrow:before {content: \"▸\";float: left;margin-right: 0.25em;color: #696969;}#sk-container-id-2 label.sk-toggleable__label-arrow:hover:before {color: black;}#sk-container-id-2 div.sk-estimator:hover label.sk-toggleable__label-arrow:before {color: black;}#sk-container-id-2 div.sk-toggleable__content {max-height: 0;max-width: 0;overflow: hidden;text-align: left;background-color: #f0f8ff;}#sk-container-id-2 div.sk-toggleable__content pre {margin: 0.2em;color: black;border-radius: 0.25em;background-color: #f0f8ff;}#sk-container-id-2 input.sk-toggleable__control:checked~div.sk-toggleable__content {max-height: 200px;max-width: 100%;overflow: auto;}#sk-container-id-2 input.sk-toggleable__control:checked~label.sk-toggleable__label-arrow:before {content: \"▾\";}#sk-container-id-2 div.sk-estimator input.sk-toggleable__control:checked~label.sk-toggleable__label {background-color: #d4ebff;}#sk-container-id-2 div.sk-label input.sk-toggleable__control:checked~label.sk-toggleable__label {background-color: #d4ebff;}#sk-container-id-2 input.sk-hidden--visually {border: 0;clip: rect(1px 1px 1px 1px);clip: rect(1px, 1px, 1px, 1px);height: 1px;margin: -1px;overflow: hidden;padding: 0;position: absolute;width: 1px;}#sk-container-id-2 div.sk-estimator {font-family: monospace;background-color: #f0f8ff;border: 1px dotted black;border-radius: 0.25em;box-sizing: border-box;margin-bottom: 0.5em;}#sk-container-id-2 div.sk-estimator:hover {background-color: #d4ebff;}#sk-container-id-2 div.sk-parallel-item::after {content: \"\";width: 100%;border-bottom: 1px solid gray;flex-grow: 1;}#sk-container-id-2 div.sk-label:hover label.sk-toggleable__label {background-color: #d4ebff;}#sk-container-id-2 div.sk-serial::before {content: \"\";position: absolute;border-left: 1px solid gray;box-sizing: border-box;top: 0;bottom: 0;left: 50%;z-index: 0;}#sk-container-id-2 div.sk-serial {display: flex;flex-direction: column;align-items: center;background-color: white;padding-right: 0.2em;padding-left: 0.2em;position: relative;}#sk-container-id-2 div.sk-item {position: relative;z-index: 1;}#sk-container-id-2 div.sk-parallel {display: flex;align-items: stretch;justify-content: center;background-color: white;position: relative;}#sk-container-id-2 div.sk-item::before, #sk-container-id-2 div.sk-parallel-item::before {content: \"\";position: absolute;border-left: 1px solid gray;box-sizing: border-box;top: 0;bottom: 0;left: 50%;z-index: -1;}#sk-container-id-2 div.sk-parallel-item {display: flex;flex-direction: column;z-index: 1;position: relative;background-color: white;}#sk-container-id-2 div.sk-parallel-item:first-child::after {align-self: flex-end;width: 50%;}#sk-container-id-2 div.sk-parallel-item:last-child::after {align-self: flex-start;width: 50%;}#sk-container-id-2 div.sk-parallel-item:only-child::after {width: 0;}#sk-container-id-2 div.sk-dashed-wrapped {border: 1px dashed gray;margin: 0 0.4em 0.5em 0.4em;box-sizing: border-box;padding-bottom: 0.4em;background-color: white;}#sk-container-id-2 div.sk-label label {font-family: monospace;font-weight: bold;display: inline-block;line-height: 1.2em;}#sk-container-id-2 div.sk-label-container {text-align: center;}#sk-container-id-2 div.sk-container {/* jupyter's `normalize.less` sets `[hidden] { display: none; }` but bootstrap.min.css set `[hidden] { display: none !important; }` so we also need the `!important` here to be able to override the default hidden behavior on the sphinx rendered scikit-learn.org. See: https://github.com/scikit-learn/scikit-learn/issues/21755 */display: inline-block !important;position: relative;}#sk-container-id-2 div.sk-text-repr-fallback {display: none;}</style><div id=\"sk-container-id-2\" class=\"sk-top-container\"><div class=\"sk-text-repr-fallback\"><pre>LabelEncoder()</pre><b>In a Jupyter environment, please rerun this cell to show the HTML representation or trust the notebook. <br />On GitHub, the HTML representation is unable to render, please try loading this page with nbviewer.org.</b></div><div class=\"sk-container\" hidden><div class=\"sk-item\"><div class=\"sk-estimator sk-toggleable\"><input class=\"sk-toggleable__control sk-hidden--visually\" id=\"sk-estimator-id-2\" type=\"checkbox\" checked><label for=\"sk-estimator-id-2\" class=\"sk-toggleable__label sk-toggleable__label-arrow\">LabelEncoder</label><div class=\"sk-toggleable__content\"><pre>LabelEncoder()</pre></div></div></div></div></div>"
      ],
      "text/plain": [
       "LabelEncoder()"
      ]
     },
     "execution_count": 16,
     "metadata": {},
     "output_type": "execute_result"
    }
   ],
   "source": [
    "le.fit(Y_train)"
   ]
  },
  {
   "cell_type": "code",
   "execution_count": 17,
   "id": "84ab1a03-1ca7-4342-b904-ea33f8a299bc",
   "metadata": {},
   "outputs": [
    {
     "data": {
      "text/plain": [
       "array(['No', 'Yes'], dtype=object)"
      ]
     },
     "execution_count": 17,
     "metadata": {},
     "output_type": "execute_result"
    }
   ],
   "source": [
    "le.classes_"
   ]
  },
  {
   "cell_type": "code",
   "execution_count": 18,
   "id": "70fda9c1-11c3-43be-9778-129abc305f5c",
   "metadata": {},
   "outputs": [],
   "source": [
    "Y_train = le.transform(Y_train)\n",
    "Y_test = le.transform(Y_test)"
   ]
  },
  {
   "cell_type": "code",
   "execution_count": 19,
   "id": "bfc75cbc-1aa9-4d6f-afcf-4bb73e7f1b76",
   "metadata": {},
   "outputs": [
    {
     "data": {
      "text/plain": [
       "array([0, 0, 0, 1, 1, 1, 1, 1, 0, 1, 0, 0, 0, 0, 0, 0, 0, 0, 1, 0, 0, 0,\n",
       "       0, 0, 0, 1, 1, 0, 1, 1, 1, 1, 0, 1, 1, 1, 1, 0, 1, 0])"
      ]
     },
     "execution_count": 19,
     "metadata": {},
     "output_type": "execute_result"
    }
   ],
   "source": [
    "Y_train"
   ]
  },
  {
   "cell_type": "code",
   "execution_count": null,
   "id": "4bdb3693-0b31-4327-b4c7-1c793647b850",
   "metadata": {},
   "outputs": [],
   "source": []
  },
  {
   "cell_type": "code",
   "execution_count": null,
   "id": "672ff99d-396b-4b73-84f9-2b54344d4a1b",
   "metadata": {},
   "outputs": [],
   "source": []
  },
  {
   "cell_type": "code",
   "execution_count": null,
   "id": "1c039cb0-3d78-4e0a-babc-3e16ba74503f",
   "metadata": {},
   "outputs": [],
   "source": []
  },
  {
   "cell_type": "code",
   "execution_count": null,
   "id": "568d1c20-b8d8-469e-9c53-0e64dc869d4d",
   "metadata": {},
   "outputs": [],
   "source": []
  },
  {
   "cell_type": "code",
   "execution_count": null,
   "id": "51c9b2e3-f468-4e97-88fc-b069ea1b26e3",
   "metadata": {},
   "outputs": [],
   "source": []
  },
  {
   "cell_type": "code",
   "execution_count": null,
   "id": "471e025b-cf11-4722-855e-0cf7efb40acc",
   "metadata": {},
   "outputs": [],
   "source": []
  },
  {
   "cell_type": "code",
   "execution_count": null,
   "id": "41f504e6-92df-4911-90d3-7e3da1ac5f8a",
   "metadata": {},
   "outputs": [],
   "source": []
  },
  {
   "cell_type": "markdown",
   "id": "ec2fc872-65e4-41b5-96c4-bec7e9034e51",
   "metadata": {},
   "source": [
    "# 2. One Hot Encoding:\n",
    "  To handle nominal data we use one-hot-encoding..."
   ]
  },
  {
   "cell_type": "code",
   "execution_count": 20,
   "id": "49866459-319b-4444-a71b-552b92084eb6",
   "metadata": {},
   "outputs": [],
   "source": [
    "df = pd.read_csv('cars.csv')"
   ]
  },
  {
   "cell_type": "code",
   "execution_count": 21,
   "id": "ecebff7b-600d-492d-b5cc-ecf305f23ee7",
   "metadata": {},
   "outputs": [
    {
     "data": {
      "text/html": [
       "<div>\n",
       "<style scoped>\n",
       "    .dataframe tbody tr th:only-of-type {\n",
       "        vertical-align: middle;\n",
       "    }\n",
       "\n",
       "    .dataframe tbody tr th {\n",
       "        vertical-align: top;\n",
       "    }\n",
       "\n",
       "    .dataframe thead th {\n",
       "        text-align: right;\n",
       "    }\n",
       "</style>\n",
       "<table border=\"1\" class=\"dataframe\">\n",
       "  <thead>\n",
       "    <tr style=\"text-align: right;\">\n",
       "      <th></th>\n",
       "      <th>brand</th>\n",
       "      <th>km_driven</th>\n",
       "      <th>fuel</th>\n",
       "      <th>owner</th>\n",
       "      <th>selling_price</th>\n",
       "    </tr>\n",
       "  </thead>\n",
       "  <tbody>\n",
       "    <tr>\n",
       "      <th>0</th>\n",
       "      <td>Maruti</td>\n",
       "      <td>145500</td>\n",
       "      <td>Diesel</td>\n",
       "      <td>First Owner</td>\n",
       "      <td>450000</td>\n",
       "    </tr>\n",
       "    <tr>\n",
       "      <th>1</th>\n",
       "      <td>Skoda</td>\n",
       "      <td>120000</td>\n",
       "      <td>Diesel</td>\n",
       "      <td>Second Owner</td>\n",
       "      <td>370000</td>\n",
       "    </tr>\n",
       "    <tr>\n",
       "      <th>2</th>\n",
       "      <td>Honda</td>\n",
       "      <td>140000</td>\n",
       "      <td>Petrol</td>\n",
       "      <td>Third Owner</td>\n",
       "      <td>158000</td>\n",
       "    </tr>\n",
       "    <tr>\n",
       "      <th>3</th>\n",
       "      <td>Hyundai</td>\n",
       "      <td>127000</td>\n",
       "      <td>Diesel</td>\n",
       "      <td>First Owner</td>\n",
       "      <td>225000</td>\n",
       "    </tr>\n",
       "    <tr>\n",
       "      <th>4</th>\n",
       "      <td>Maruti</td>\n",
       "      <td>120000</td>\n",
       "      <td>Petrol</td>\n",
       "      <td>First Owner</td>\n",
       "      <td>130000</td>\n",
       "    </tr>\n",
       "  </tbody>\n",
       "</table>\n",
       "</div>"
      ],
      "text/plain": [
       "     brand  km_driven    fuel         owner  selling_price\n",
       "0   Maruti     145500  Diesel   First Owner         450000\n",
       "1    Skoda     120000  Diesel  Second Owner         370000\n",
       "2    Honda     140000  Petrol   Third Owner         158000\n",
       "3  Hyundai     127000  Diesel   First Owner         225000\n",
       "4   Maruti     120000  Petrol   First Owner         130000"
      ]
     },
     "execution_count": 21,
     "metadata": {},
     "output_type": "execute_result"
    }
   ],
   "source": [
    "df.head()"
   ]
  },
  {
   "cell_type": "code",
   "execution_count": 22,
   "id": "4700ca3a-2bbf-47cb-b509-680599c3c8cd",
   "metadata": {},
   "outputs": [
    {
     "data": {
      "text/plain": [
       "owner\n",
       "First Owner             5289\n",
       "Second Owner            2105\n",
       "Third Owner              555\n",
       "Fourth & Above Owner     174\n",
       "Test Drive Car             5\n",
       "Name: count, dtype: int64"
      ]
     },
     "execution_count": 22,
     "metadata": {},
     "output_type": "execute_result"
    }
   ],
   "source": [
    "df['owner'].value_counts()"
   ]
  },
  {
   "cell_type": "markdown",
   "id": "d045a8ab-f5f7-415e-9313-fdccaad58dfb",
   "metadata": {},
   "source": [
    "# 1. OneHotEncoding using Pandas:"
   ]
  },
  {
   "cell_type": "code",
   "execution_count": 23,
   "id": "a0cffa69-8f7d-4eb7-8ed9-587cb7fc5676",
   "metadata": {},
   "outputs": [
    {
     "data": {
      "text/html": [
       "<div>\n",
       "<style scoped>\n",
       "    .dataframe tbody tr th:only-of-type {\n",
       "        vertical-align: middle;\n",
       "    }\n",
       "\n",
       "    .dataframe tbody tr th {\n",
       "        vertical-align: top;\n",
       "    }\n",
       "\n",
       "    .dataframe thead th {\n",
       "        text-align: right;\n",
       "    }\n",
       "</style>\n",
       "<table border=\"1\" class=\"dataframe\">\n",
       "  <thead>\n",
       "    <tr style=\"text-align: right;\">\n",
       "      <th></th>\n",
       "      <th>brand</th>\n",
       "      <th>km_driven</th>\n",
       "      <th>selling_price</th>\n",
       "      <th>fuel_CNG</th>\n",
       "      <th>fuel_Diesel</th>\n",
       "      <th>fuel_LPG</th>\n",
       "      <th>fuel_Petrol</th>\n",
       "      <th>owner_First Owner</th>\n",
       "      <th>owner_Fourth &amp; Above Owner</th>\n",
       "      <th>owner_Second Owner</th>\n",
       "      <th>owner_Test Drive Car</th>\n",
       "      <th>owner_Third Owner</th>\n",
       "    </tr>\n",
       "  </thead>\n",
       "  <tbody>\n",
       "    <tr>\n",
       "      <th>0</th>\n",
       "      <td>Maruti</td>\n",
       "      <td>145500</td>\n",
       "      <td>450000</td>\n",
       "      <td>0</td>\n",
       "      <td>1</td>\n",
       "      <td>0</td>\n",
       "      <td>0</td>\n",
       "      <td>1</td>\n",
       "      <td>0</td>\n",
       "      <td>0</td>\n",
       "      <td>0</td>\n",
       "      <td>0</td>\n",
       "    </tr>\n",
       "    <tr>\n",
       "      <th>1</th>\n",
       "      <td>Skoda</td>\n",
       "      <td>120000</td>\n",
       "      <td>370000</td>\n",
       "      <td>0</td>\n",
       "      <td>1</td>\n",
       "      <td>0</td>\n",
       "      <td>0</td>\n",
       "      <td>0</td>\n",
       "      <td>0</td>\n",
       "      <td>1</td>\n",
       "      <td>0</td>\n",
       "      <td>0</td>\n",
       "    </tr>\n",
       "    <tr>\n",
       "      <th>2</th>\n",
       "      <td>Honda</td>\n",
       "      <td>140000</td>\n",
       "      <td>158000</td>\n",
       "      <td>0</td>\n",
       "      <td>0</td>\n",
       "      <td>0</td>\n",
       "      <td>1</td>\n",
       "      <td>0</td>\n",
       "      <td>0</td>\n",
       "      <td>0</td>\n",
       "      <td>0</td>\n",
       "      <td>1</td>\n",
       "    </tr>\n",
       "    <tr>\n",
       "      <th>3</th>\n",
       "      <td>Hyundai</td>\n",
       "      <td>127000</td>\n",
       "      <td>225000</td>\n",
       "      <td>0</td>\n",
       "      <td>1</td>\n",
       "      <td>0</td>\n",
       "      <td>0</td>\n",
       "      <td>1</td>\n",
       "      <td>0</td>\n",
       "      <td>0</td>\n",
       "      <td>0</td>\n",
       "      <td>0</td>\n",
       "    </tr>\n",
       "    <tr>\n",
       "      <th>4</th>\n",
       "      <td>Maruti</td>\n",
       "      <td>120000</td>\n",
       "      <td>130000</td>\n",
       "      <td>0</td>\n",
       "      <td>0</td>\n",
       "      <td>0</td>\n",
       "      <td>1</td>\n",
       "      <td>1</td>\n",
       "      <td>0</td>\n",
       "      <td>0</td>\n",
       "      <td>0</td>\n",
       "      <td>0</td>\n",
       "    </tr>\n",
       "    <tr>\n",
       "      <th>...</th>\n",
       "      <td>...</td>\n",
       "      <td>...</td>\n",
       "      <td>...</td>\n",
       "      <td>...</td>\n",
       "      <td>...</td>\n",
       "      <td>...</td>\n",
       "      <td>...</td>\n",
       "      <td>...</td>\n",
       "      <td>...</td>\n",
       "      <td>...</td>\n",
       "      <td>...</td>\n",
       "      <td>...</td>\n",
       "    </tr>\n",
       "    <tr>\n",
       "      <th>8123</th>\n",
       "      <td>Hyundai</td>\n",
       "      <td>110000</td>\n",
       "      <td>320000</td>\n",
       "      <td>0</td>\n",
       "      <td>0</td>\n",
       "      <td>0</td>\n",
       "      <td>1</td>\n",
       "      <td>1</td>\n",
       "      <td>0</td>\n",
       "      <td>0</td>\n",
       "      <td>0</td>\n",
       "      <td>0</td>\n",
       "    </tr>\n",
       "    <tr>\n",
       "      <th>8124</th>\n",
       "      <td>Hyundai</td>\n",
       "      <td>119000</td>\n",
       "      <td>135000</td>\n",
       "      <td>0</td>\n",
       "      <td>1</td>\n",
       "      <td>0</td>\n",
       "      <td>0</td>\n",
       "      <td>0</td>\n",
       "      <td>1</td>\n",
       "      <td>0</td>\n",
       "      <td>0</td>\n",
       "      <td>0</td>\n",
       "    </tr>\n",
       "    <tr>\n",
       "      <th>8125</th>\n",
       "      <td>Maruti</td>\n",
       "      <td>120000</td>\n",
       "      <td>382000</td>\n",
       "      <td>0</td>\n",
       "      <td>1</td>\n",
       "      <td>0</td>\n",
       "      <td>0</td>\n",
       "      <td>1</td>\n",
       "      <td>0</td>\n",
       "      <td>0</td>\n",
       "      <td>0</td>\n",
       "      <td>0</td>\n",
       "    </tr>\n",
       "    <tr>\n",
       "      <th>8126</th>\n",
       "      <td>Tata</td>\n",
       "      <td>25000</td>\n",
       "      <td>290000</td>\n",
       "      <td>0</td>\n",
       "      <td>1</td>\n",
       "      <td>0</td>\n",
       "      <td>0</td>\n",
       "      <td>1</td>\n",
       "      <td>0</td>\n",
       "      <td>0</td>\n",
       "      <td>0</td>\n",
       "      <td>0</td>\n",
       "    </tr>\n",
       "    <tr>\n",
       "      <th>8127</th>\n",
       "      <td>Tata</td>\n",
       "      <td>25000</td>\n",
       "      <td>290000</td>\n",
       "      <td>0</td>\n",
       "      <td>1</td>\n",
       "      <td>0</td>\n",
       "      <td>0</td>\n",
       "      <td>1</td>\n",
       "      <td>0</td>\n",
       "      <td>0</td>\n",
       "      <td>0</td>\n",
       "      <td>0</td>\n",
       "    </tr>\n",
       "  </tbody>\n",
       "</table>\n",
       "<p>8128 rows × 12 columns</p>\n",
       "</div>"
      ],
      "text/plain": [
       "        brand  km_driven  selling_price  fuel_CNG  fuel_Diesel  fuel_LPG  \\\n",
       "0      Maruti     145500         450000         0            1         0   \n",
       "1       Skoda     120000         370000         0            1         0   \n",
       "2       Honda     140000         158000         0            0         0   \n",
       "3     Hyundai     127000         225000         0            1         0   \n",
       "4      Maruti     120000         130000         0            0         0   \n",
       "...       ...        ...            ...       ...          ...       ...   \n",
       "8123  Hyundai     110000         320000         0            0         0   \n",
       "8124  Hyundai     119000         135000         0            1         0   \n",
       "8125   Maruti     120000         382000         0            1         0   \n",
       "8126     Tata      25000         290000         0            1         0   \n",
       "8127     Tata      25000         290000         0            1         0   \n",
       "\n",
       "      fuel_Petrol  owner_First Owner  owner_Fourth & Above Owner  \\\n",
       "0               0                  1                           0   \n",
       "1               0                  0                           0   \n",
       "2               1                  0                           0   \n",
       "3               0                  1                           0   \n",
       "4               1                  1                           0   \n",
       "...           ...                ...                         ...   \n",
       "8123            1                  1                           0   \n",
       "8124            0                  0                           1   \n",
       "8125            0                  1                           0   \n",
       "8126            0                  1                           0   \n",
       "8127            0                  1                           0   \n",
       "\n",
       "      owner_Second Owner  owner_Test Drive Car  owner_Third Owner  \n",
       "0                      0                     0                  0  \n",
       "1                      1                     0                  0  \n",
       "2                      0                     0                  1  \n",
       "3                      0                     0                  0  \n",
       "4                      0                     0                  0  \n",
       "...                  ...                   ...                ...  \n",
       "8123                   0                     0                  0  \n",
       "8124                   0                     0                  0  \n",
       "8125                   0                     0                  0  \n",
       "8126                   0                     0                  0  \n",
       "8127                   0                     0                  0  \n",
       "\n",
       "[8128 rows x 12 columns]"
      ]
     },
     "execution_count": 23,
     "metadata": {},
     "output_type": "execute_result"
    }
   ],
   "source": [
    "# get_dumies is a function in pandas, use for one-hot-encoding....\n",
    "pd.get_dummies(df, columns=['fuel', 'owner'], dtype=int)"
   ]
  },
  {
   "cell_type": "markdown",
   "id": "7d0f6c81-85a0-4e11-9922-491c7f27fba7",
   "metadata": {},
   "source": [
    "# 2. K-1 OneHotEncoding:"
   ]
  },
  {
   "cell_type": "code",
   "execution_count": 24,
   "id": "fbfe0ee4-9947-4b04-8b6d-670fe38d5d44",
   "metadata": {},
   "outputs": [
    {
     "data": {
      "text/html": [
       "<div>\n",
       "<style scoped>\n",
       "    .dataframe tbody tr th:only-of-type {\n",
       "        vertical-align: middle;\n",
       "    }\n",
       "\n",
       "    .dataframe tbody tr th {\n",
       "        vertical-align: top;\n",
       "    }\n",
       "\n",
       "    .dataframe thead th {\n",
       "        text-align: right;\n",
       "    }\n",
       "</style>\n",
       "<table border=\"1\" class=\"dataframe\">\n",
       "  <thead>\n",
       "    <tr style=\"text-align: right;\">\n",
       "      <th></th>\n",
       "      <th>brand</th>\n",
       "      <th>km_driven</th>\n",
       "      <th>selling_price</th>\n",
       "      <th>fuel_Diesel</th>\n",
       "      <th>fuel_LPG</th>\n",
       "      <th>fuel_Petrol</th>\n",
       "      <th>owner_Fourth &amp; Above Owner</th>\n",
       "      <th>owner_Second Owner</th>\n",
       "      <th>owner_Test Drive Car</th>\n",
       "      <th>owner_Third Owner</th>\n",
       "    </tr>\n",
       "  </thead>\n",
       "  <tbody>\n",
       "    <tr>\n",
       "      <th>0</th>\n",
       "      <td>Maruti</td>\n",
       "      <td>145500</td>\n",
       "      <td>450000</td>\n",
       "      <td>True</td>\n",
       "      <td>False</td>\n",
       "      <td>False</td>\n",
       "      <td>False</td>\n",
       "      <td>False</td>\n",
       "      <td>False</td>\n",
       "      <td>False</td>\n",
       "    </tr>\n",
       "    <tr>\n",
       "      <th>1</th>\n",
       "      <td>Skoda</td>\n",
       "      <td>120000</td>\n",
       "      <td>370000</td>\n",
       "      <td>True</td>\n",
       "      <td>False</td>\n",
       "      <td>False</td>\n",
       "      <td>False</td>\n",
       "      <td>True</td>\n",
       "      <td>False</td>\n",
       "      <td>False</td>\n",
       "    </tr>\n",
       "    <tr>\n",
       "      <th>2</th>\n",
       "      <td>Honda</td>\n",
       "      <td>140000</td>\n",
       "      <td>158000</td>\n",
       "      <td>False</td>\n",
       "      <td>False</td>\n",
       "      <td>True</td>\n",
       "      <td>False</td>\n",
       "      <td>False</td>\n",
       "      <td>False</td>\n",
       "      <td>True</td>\n",
       "    </tr>\n",
       "    <tr>\n",
       "      <th>3</th>\n",
       "      <td>Hyundai</td>\n",
       "      <td>127000</td>\n",
       "      <td>225000</td>\n",
       "      <td>True</td>\n",
       "      <td>False</td>\n",
       "      <td>False</td>\n",
       "      <td>False</td>\n",
       "      <td>False</td>\n",
       "      <td>False</td>\n",
       "      <td>False</td>\n",
       "    </tr>\n",
       "    <tr>\n",
       "      <th>4</th>\n",
       "      <td>Maruti</td>\n",
       "      <td>120000</td>\n",
       "      <td>130000</td>\n",
       "      <td>False</td>\n",
       "      <td>False</td>\n",
       "      <td>True</td>\n",
       "      <td>False</td>\n",
       "      <td>False</td>\n",
       "      <td>False</td>\n",
       "      <td>False</td>\n",
       "    </tr>\n",
       "    <tr>\n",
       "      <th>...</th>\n",
       "      <td>...</td>\n",
       "      <td>...</td>\n",
       "      <td>...</td>\n",
       "      <td>...</td>\n",
       "      <td>...</td>\n",
       "      <td>...</td>\n",
       "      <td>...</td>\n",
       "      <td>...</td>\n",
       "      <td>...</td>\n",
       "      <td>...</td>\n",
       "    </tr>\n",
       "    <tr>\n",
       "      <th>8123</th>\n",
       "      <td>Hyundai</td>\n",
       "      <td>110000</td>\n",
       "      <td>320000</td>\n",
       "      <td>False</td>\n",
       "      <td>False</td>\n",
       "      <td>True</td>\n",
       "      <td>False</td>\n",
       "      <td>False</td>\n",
       "      <td>False</td>\n",
       "      <td>False</td>\n",
       "    </tr>\n",
       "    <tr>\n",
       "      <th>8124</th>\n",
       "      <td>Hyundai</td>\n",
       "      <td>119000</td>\n",
       "      <td>135000</td>\n",
       "      <td>True</td>\n",
       "      <td>False</td>\n",
       "      <td>False</td>\n",
       "      <td>True</td>\n",
       "      <td>False</td>\n",
       "      <td>False</td>\n",
       "      <td>False</td>\n",
       "    </tr>\n",
       "    <tr>\n",
       "      <th>8125</th>\n",
       "      <td>Maruti</td>\n",
       "      <td>120000</td>\n",
       "      <td>382000</td>\n",
       "      <td>True</td>\n",
       "      <td>False</td>\n",
       "      <td>False</td>\n",
       "      <td>False</td>\n",
       "      <td>False</td>\n",
       "      <td>False</td>\n",
       "      <td>False</td>\n",
       "    </tr>\n",
       "    <tr>\n",
       "      <th>8126</th>\n",
       "      <td>Tata</td>\n",
       "      <td>25000</td>\n",
       "      <td>290000</td>\n",
       "      <td>True</td>\n",
       "      <td>False</td>\n",
       "      <td>False</td>\n",
       "      <td>False</td>\n",
       "      <td>False</td>\n",
       "      <td>False</td>\n",
       "      <td>False</td>\n",
       "    </tr>\n",
       "    <tr>\n",
       "      <th>8127</th>\n",
       "      <td>Tata</td>\n",
       "      <td>25000</td>\n",
       "      <td>290000</td>\n",
       "      <td>True</td>\n",
       "      <td>False</td>\n",
       "      <td>False</td>\n",
       "      <td>False</td>\n",
       "      <td>False</td>\n",
       "      <td>False</td>\n",
       "      <td>False</td>\n",
       "    </tr>\n",
       "  </tbody>\n",
       "</table>\n",
       "<p>8128 rows × 10 columns</p>\n",
       "</div>"
      ],
      "text/plain": [
       "        brand  km_driven  selling_price  fuel_Diesel  fuel_LPG  fuel_Petrol  \\\n",
       "0      Maruti     145500         450000         True     False        False   \n",
       "1       Skoda     120000         370000         True     False        False   \n",
       "2       Honda     140000         158000        False     False         True   \n",
       "3     Hyundai     127000         225000         True     False        False   \n",
       "4      Maruti     120000         130000        False     False         True   \n",
       "...       ...        ...            ...          ...       ...          ...   \n",
       "8123  Hyundai     110000         320000        False     False         True   \n",
       "8124  Hyundai     119000         135000         True     False        False   \n",
       "8125   Maruti     120000         382000         True     False        False   \n",
       "8126     Tata      25000         290000         True     False        False   \n",
       "8127     Tata      25000         290000         True     False        False   \n",
       "\n",
       "      owner_Fourth & Above Owner  owner_Second Owner  owner_Test Drive Car  \\\n",
       "0                          False               False                 False   \n",
       "1                          False                True                 False   \n",
       "2                          False               False                 False   \n",
       "3                          False               False                 False   \n",
       "4                          False               False                 False   \n",
       "...                          ...                 ...                   ...   \n",
       "8123                       False               False                 False   \n",
       "8124                        True               False                 False   \n",
       "8125                       False               False                 False   \n",
       "8126                       False               False                 False   \n",
       "8127                       False               False                 False   \n",
       "\n",
       "      owner_Third Owner  \n",
       "0                 False  \n",
       "1                 False  \n",
       "2                  True  \n",
       "3                 False  \n",
       "4                 False  \n",
       "...                 ...  \n",
       "8123              False  \n",
       "8124              False  \n",
       "8125              False  \n",
       "8126              False  \n",
       "8127              False  \n",
       "\n",
       "[8128 rows x 10 columns]"
      ]
     },
     "execution_count": 24,
     "metadata": {},
     "output_type": "execute_result"
    }
   ],
   "source": [
    "# we need to remove 1 col, so we use \"drop_first=True\" to remove 1st col..\n",
    "pd.get_dummies(df,columns=['fuel','owner'],drop_first=True)\n",
    "\n",
    "\n",
    "# Generely we does'nt use pandas for 'OHE' in ML project, bcozz it does'nt remember k konsa col remove kiya ha...."
   ]
  },
  {
   "cell_type": "markdown",
   "id": "88b93418-4470-44f2-aca6-ad22925c380d",
   "metadata": {},
   "source": [
    "# 3. OneHotEncoding using Sklearn:"
   ]
  },
  {
   "cell_type": "code",
   "execution_count": 25,
   "id": "33ad1aaa-f083-4135-b7ff-68da72e92b8e",
   "metadata": {},
   "outputs": [],
   "source": [
    "from sklearn.model_selection import train_test_split\n",
    "X_train,X_test,y_train,y_test = train_test_split(df.iloc[:,0:4],df.iloc[:,-1],test_size=0.2,random_state=2)"
   ]
  },
  {
   "cell_type": "code",
   "execution_count": 26,
   "id": "93510c06-3798-4b4e-b374-aaaddfe3d880",
   "metadata": {},
   "outputs": [
    {
     "data": {
      "text/html": [
       "<div>\n",
       "<style scoped>\n",
       "    .dataframe tbody tr th:only-of-type {\n",
       "        vertical-align: middle;\n",
       "    }\n",
       "\n",
       "    .dataframe tbody tr th {\n",
       "        vertical-align: top;\n",
       "    }\n",
       "\n",
       "    .dataframe thead th {\n",
       "        text-align: right;\n",
       "    }\n",
       "</style>\n",
       "<table border=\"1\" class=\"dataframe\">\n",
       "  <thead>\n",
       "    <tr style=\"text-align: right;\">\n",
       "      <th></th>\n",
       "      <th>brand</th>\n",
       "      <th>km_driven</th>\n",
       "      <th>fuel</th>\n",
       "      <th>owner</th>\n",
       "    </tr>\n",
       "  </thead>\n",
       "  <tbody>\n",
       "    <tr>\n",
       "      <th>5571</th>\n",
       "      <td>Hyundai</td>\n",
       "      <td>35000</td>\n",
       "      <td>Diesel</td>\n",
       "      <td>First Owner</td>\n",
       "    </tr>\n",
       "    <tr>\n",
       "      <th>2038</th>\n",
       "      <td>Jeep</td>\n",
       "      <td>60000</td>\n",
       "      <td>Diesel</td>\n",
       "      <td>First Owner</td>\n",
       "    </tr>\n",
       "    <tr>\n",
       "      <th>2957</th>\n",
       "      <td>Hyundai</td>\n",
       "      <td>25000</td>\n",
       "      <td>Petrol</td>\n",
       "      <td>First Owner</td>\n",
       "    </tr>\n",
       "    <tr>\n",
       "      <th>7618</th>\n",
       "      <td>Mahindra</td>\n",
       "      <td>130000</td>\n",
       "      <td>Diesel</td>\n",
       "      <td>Second Owner</td>\n",
       "    </tr>\n",
       "    <tr>\n",
       "      <th>6684</th>\n",
       "      <td>Hyundai</td>\n",
       "      <td>155000</td>\n",
       "      <td>Diesel</td>\n",
       "      <td>First Owner</td>\n",
       "    </tr>\n",
       "  </tbody>\n",
       "</table>\n",
       "</div>"
      ],
      "text/plain": [
       "         brand  km_driven    fuel         owner\n",
       "5571   Hyundai      35000  Diesel   First Owner\n",
       "2038      Jeep      60000  Diesel   First Owner\n",
       "2957   Hyundai      25000  Petrol   First Owner\n",
       "7618  Mahindra     130000  Diesel  Second Owner\n",
       "6684   Hyundai     155000  Diesel   First Owner"
      ]
     },
     "execution_count": 26,
     "metadata": {},
     "output_type": "execute_result"
    }
   ],
   "source": [
    "X_train.head()"
   ]
  },
  {
   "cell_type": "code",
   "execution_count": 27,
   "id": "04cad52d-b4aa-42ff-8224-e0be7c83f17e",
   "metadata": {},
   "outputs": [],
   "source": [
    "from sklearn.preprocessing import OneHotEncoder"
   ]
  },
  {
   "cell_type": "code",
   "execution_count": 28,
   "id": "a5584528-19df-48a5-9b43-eda12d9ad61b",
   "metadata": {},
   "outputs": [],
   "source": [
    "ohe = OneHotEncoder(drop='first',sparse=False,dtype=np.int32)"
   ]
  },
  {
   "cell_type": "code",
   "execution_count": 29,
   "id": "d19c8fc1-4a55-4255-9621-e53052a7556c",
   "metadata": {},
   "outputs": [
    {
     "name": "stderr",
     "output_type": "stream",
     "text": [
      "C:\\Users\\dell\\anaconda3\\Lib\\site-packages\\sklearn\\preprocessing\\_encoders.py:972: FutureWarning: `sparse` was renamed to `sparse_output` in version 1.2 and will be removed in 1.4. `sparse_output` is ignored unless you leave `sparse` to its default value.\n",
      "  warnings.warn(\n"
     ]
    }
   ],
   "source": [
    "X_train_new = ohe.fit_transform(X_train[['fuel','owner']])"
   ]
  },
  {
   "cell_type": "code",
   "execution_count": 30,
   "id": "c59714aa-4ea4-4e7e-aae3-f43d605da372",
   "metadata": {},
   "outputs": [],
   "source": [
    "X_test_new = ohe.transform(X_test[['fuel','owner']])"
   ]
  },
  {
   "cell_type": "code",
   "execution_count": 31,
   "id": "775833f6-fb14-404d-8570-d092bb9207db",
   "metadata": {},
   "outputs": [
    {
     "data": {
      "text/plain": [
       "(6502, 7)"
      ]
     },
     "execution_count": 31,
     "metadata": {},
     "output_type": "execute_result"
    }
   ],
   "source": [
    "X_train_new.shape"
   ]
  },
  {
   "cell_type": "code",
   "execution_count": 32,
   "id": "521e740c-35c8-47e0-8a33-d30256782ca3",
   "metadata": {},
   "outputs": [
    {
     "data": {
      "text/plain": [
       "array([['Hyundai', 35000, 1, ..., 0, 0, 0],\n",
       "       ['Jeep', 60000, 1, ..., 0, 0, 0],\n",
       "       ['Hyundai', 25000, 0, ..., 0, 0, 0],\n",
       "       ...,\n",
       "       ['Tata', 15000, 0, ..., 0, 0, 0],\n",
       "       ['Maruti', 32500, 1, ..., 1, 0, 0],\n",
       "       ['Isuzu', 121000, 1, ..., 0, 0, 0]], dtype=object)"
      ]
     },
     "execution_count": 32,
     "metadata": {},
     "output_type": "execute_result"
    }
   ],
   "source": [
    "np.hstack((X_train[['brand','km_driven']].values,X_train_new))"
   ]
  },
  {
   "cell_type": "markdown",
   "id": "1a4d668a-1c53-48a0-9d2c-88f460b8c18b",
   "metadata": {},
   "source": [
    "# 4. OneHotEncoding with Top Categories:"
   ]
  },
  {
   "cell_type": "code",
   "execution_count": 33,
   "id": "4cab2f2f-a7cf-4ff4-8d90-2e217189c9b8",
   "metadata": {},
   "outputs": [],
   "source": [
    "counts = df['brand'].value_counts()"
   ]
  },
  {
   "cell_type": "code",
   "execution_count": 34,
   "id": "993df4e0-2494-410d-bd9e-0a5e3684e3d5",
   "metadata": {},
   "outputs": [],
   "source": [
    "df['brand'].nunique()\n",
    "threshold = 100"
   ]
  },
  {
   "cell_type": "code",
   "execution_count": 35,
   "id": "069bf496-a450-4db2-9c52-832cdfd86336",
   "metadata": {},
   "outputs": [],
   "source": [
    "repl = counts[counts <= threshold].index"
   ]
  },
  {
   "cell_type": "code",
   "execution_count": 36,
   "id": "10c76902-cdb0-4a94-b5bb-e9932b35441d",
   "metadata": {},
   "outputs": [
    {
     "data": {
      "text/html": [
       "<div>\n",
       "<style scoped>\n",
       "    .dataframe tbody tr th:only-of-type {\n",
       "        vertical-align: middle;\n",
       "    }\n",
       "\n",
       "    .dataframe tbody tr th {\n",
       "        vertical-align: top;\n",
       "    }\n",
       "\n",
       "    .dataframe thead th {\n",
       "        text-align: right;\n",
       "    }\n",
       "</style>\n",
       "<table border=\"1\" class=\"dataframe\">\n",
       "  <thead>\n",
       "    <tr style=\"text-align: right;\">\n",
       "      <th></th>\n",
       "      <th>BMW</th>\n",
       "      <th>Chevrolet</th>\n",
       "      <th>Ford</th>\n",
       "      <th>Honda</th>\n",
       "      <th>Hyundai</th>\n",
       "      <th>Mahindra</th>\n",
       "      <th>Maruti</th>\n",
       "      <th>Renault</th>\n",
       "      <th>Skoda</th>\n",
       "      <th>Tata</th>\n",
       "      <th>Toyota</th>\n",
       "      <th>Volkswagen</th>\n",
       "      <th>uncommon</th>\n",
       "    </tr>\n",
       "  </thead>\n",
       "  <tbody>\n",
       "    <tr>\n",
       "      <th>348</th>\n",
       "      <td>0</td>\n",
       "      <td>0</td>\n",
       "      <td>0</td>\n",
       "      <td>0</td>\n",
       "      <td>0</td>\n",
       "      <td>0</td>\n",
       "      <td>0</td>\n",
       "      <td>0</td>\n",
       "      <td>0</td>\n",
       "      <td>0</td>\n",
       "      <td>0</td>\n",
       "      <td>0</td>\n",
       "      <td>1</td>\n",
       "    </tr>\n",
       "    <tr>\n",
       "      <th>7542</th>\n",
       "      <td>0</td>\n",
       "      <td>0</td>\n",
       "      <td>0</td>\n",
       "      <td>0</td>\n",
       "      <td>0</td>\n",
       "      <td>0</td>\n",
       "      <td>1</td>\n",
       "      <td>0</td>\n",
       "      <td>0</td>\n",
       "      <td>0</td>\n",
       "      <td>0</td>\n",
       "      <td>0</td>\n",
       "      <td>0</td>\n",
       "    </tr>\n",
       "    <tr>\n",
       "      <th>6373</th>\n",
       "      <td>0</td>\n",
       "      <td>0</td>\n",
       "      <td>0</td>\n",
       "      <td>0</td>\n",
       "      <td>0</td>\n",
       "      <td>0</td>\n",
       "      <td>0</td>\n",
       "      <td>0</td>\n",
       "      <td>0</td>\n",
       "      <td>1</td>\n",
       "      <td>0</td>\n",
       "      <td>0</td>\n",
       "      <td>0</td>\n",
       "    </tr>\n",
       "    <tr>\n",
       "      <th>3823</th>\n",
       "      <td>0</td>\n",
       "      <td>0</td>\n",
       "      <td>0</td>\n",
       "      <td>0</td>\n",
       "      <td>1</td>\n",
       "      <td>0</td>\n",
       "      <td>0</td>\n",
       "      <td>0</td>\n",
       "      <td>0</td>\n",
       "      <td>0</td>\n",
       "      <td>0</td>\n",
       "      <td>0</td>\n",
       "      <td>0</td>\n",
       "    </tr>\n",
       "    <tr>\n",
       "      <th>5169</th>\n",
       "      <td>0</td>\n",
       "      <td>0</td>\n",
       "      <td>0</td>\n",
       "      <td>0</td>\n",
       "      <td>0</td>\n",
       "      <td>0</td>\n",
       "      <td>0</td>\n",
       "      <td>0</td>\n",
       "      <td>0</td>\n",
       "      <td>1</td>\n",
       "      <td>0</td>\n",
       "      <td>0</td>\n",
       "      <td>0</td>\n",
       "    </tr>\n",
       "  </tbody>\n",
       "</table>\n",
       "</div>"
      ],
      "text/plain": [
       "      BMW  Chevrolet  Ford  Honda  Hyundai  Mahindra  Maruti  Renault  Skoda  \\\n",
       "348     0          0     0      0        0         0       0        0      0   \n",
       "7542    0          0     0      0        0         0       1        0      0   \n",
       "6373    0          0     0      0        0         0       0        0      0   \n",
       "3823    0          0     0      0        1         0       0        0      0   \n",
       "5169    0          0     0      0        0         0       0        0      0   \n",
       "\n",
       "      Tata  Toyota  Volkswagen  uncommon  \n",
       "348      0       0           0         1  \n",
       "7542     0       0           0         0  \n",
       "6373     1       0           0         0  \n",
       "3823     0       0           0         0  \n",
       "5169     1       0           0         0  "
      ]
     },
     "execution_count": 36,
     "metadata": {},
     "output_type": "execute_result"
    }
   ],
   "source": [
    "pd.get_dummies(df['brand'].replace(repl, 'uncommon'),dtype=int).sample(5)"
   ]
  },
  {
   "cell_type": "code",
   "execution_count": null,
   "id": "30d2c1dd-18d4-49b2-a96f-6e8331eff3e7",
   "metadata": {},
   "outputs": [],
   "source": []
  },
  {
   "cell_type": "code",
   "execution_count": null,
   "id": "5ffc9d89-5935-4585-9e29-572987742efe",
   "metadata": {},
   "outputs": [],
   "source": []
  }
 ],
 "metadata": {
  "kernelspec": {
   "display_name": "Python 3 (ipykernel)",
   "language": "python",
   "name": "python3"
  },
  "language_info": {
   "codemirror_mode": {
    "name": "ipython",
    "version": 3
   },
   "file_extension": ".py",
   "mimetype": "text/x-python",
   "name": "python",
   "nbconvert_exporter": "python",
   "pygments_lexer": "ipython3",
   "version": "3.11.5"
  }
 },
 "nbformat": 4,
 "nbformat_minor": 5
}
